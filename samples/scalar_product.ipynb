{
 "cells": [
  {
   "cell_type": "markdown",
   "metadata": {},
   "source": [
    "# ベクトルのスカラ積（内積）のサンプル\n",
    "\n",
    "簡単な例（ベクトルのスカラ積）を通してiMulveryを使った次のような開発の流れを体験するためのサンプルです．\n",
    "\n",
    " 1. Observableの定義\n",
    " 1. Mulveryを用いた処理の記述\n",
    " 1. `sample_input` 機能を用いた動作レベル検証\n",
    " 1. `display` 機能を用いたハードウェアの確認\n",
    " 1. `optimizer` 機能を用いたハードウェアの最適化"
   ]
  },
  {
   "cell_type": "markdown",
   "metadata": {},
   "source": [
    "## iMulveryを利用する準備\n",
    "\n",
    "iMulveryは，単に `require` するだけで利用できます．\n",
    "MulveryもiMulveryもRubyやjupyter-notebookには手を加えていないので，既存のirbやjupyter-notebookですぐに利用できます．"
   ]
  },
  {
   "cell_type": "code",
   "execution_count": 1,
   "metadata": {},
   "outputs": [
    {
     "data": {
      "text/plain": [
       "true"
      ]
     },
     "execution_count": 1,
     "metadata": {},
     "output_type": "execute_result"
    }
   ],
   "source": [
    "require '../lib/imulvery'"
   ]
  },
  {
   "cell_type": "markdown",
   "metadata": {},
   "source": [
    "## Observableの定義\n",
    "\n",
    "データ源となるようなObservableを定義します．  \n",
    "メモリのデータを利用する `from_array` やInputポートを利用する `from_in` などのジェネレータが用意されています．"
   ]
  },
  {
   "cell_type": "code",
   "execution_count": 2,
   "metadata": {},
   "outputs": [
    {
     "data": {
      "text/plain": [
       "#<Mulvery::InputBus:0x000055da1c1e7f48 @data_path=[#<Mulvery::Observable::ObservableNode:0x000055da1c1e7f70 @type=:source, @info={:type=>:from_in}, @reg=0>]>"
      ]
     },
     "execution_count": 2,
     "metadata": {},
     "output_type": "execute_result"
    }
   ],
   "source": [
    "ob_1 = Mulvery::Observable.from_input\n",
    "ob_2 = Mulvery::Observable.from_input"
   ]
  },
  {
   "cell_type": "markdown",
   "metadata": {},
   "source": [
    "## 処理の記述\n",
    "\n",
    "Mulveryの記法（Rx）に基づいて処理を記述していきます．  \n",
    "このコードでは，結果の計算が終わり次第（＝非同期に）変数 `actual` がその結果で更新されます．"
   ]
  },
  {
   "cell_type": "code",
   "execution_count": 3,
   "metadata": {},
   "outputs": [
    {
     "data": {
      "text/plain": [
       "#<Mulvery::InputBus:0x000055da1c214070 @data_path=[#<Mulvery::Observable::ObservableNode:0x000055da1c214160 @type=:source, @info={:type=>:from_in}, @reg=0>, #<Mulvery::Observable::ObservableNode:0x000055da1c0cc500 @type=:zip, @info={:observables=>[#<Mulvery::InputBus:0x000055da1c1e7f48 @data_path=[#<Mulvery::Observable::ObservableNode:0x000055da1c1e7f70 @type=:source, @info={:type=>:from_in}, @reg=0>]>]}, @reg=0>, #<Mulvery::Observable::ObservableNode:0x000055da1c0cc3c0 @type=:reduce, @info={:lambda_abs=>#<Proc:0x000055da1c0cc438@<main>:3>}, @reg=0>, #<Mulvery::Observable::ObservableNode:0x000055da1c0cc0a0 @type=:subscribe, @info={:lambda_abs=>#<Proc:0x000055da1c0cc2a8@<main>:6>}, @reg=0>]>"
      ]
     },
     "execution_count": 3,
     "metadata": {},
     "output_type": "execute_result"
    }
   ],
   "source": [
    "actual = 0\n",
    "result = ob_1\n",
    "  .zip(ob_2)\n",
    "  .reduce do |reg, d|\n",
    "    reg += d[0] * d[1]\n",
    "  end\n",
    "  .subscribe do |data|\n",
    "    actual = data\n",
    "  end"
   ]
  },
  {
   "cell_type": "markdown",
   "metadata": {},
   "source": [
    "## 動作レベル検証\n",
    "\n",
    "先程定義した `result` observableが正しい結果を出力するか検証します．  \n",
    "`from_in` で生成したObservableはサンプル入力をサポートしているので，これを利用します．\n",
    "\n",
    "まずはRubyを使って普通に計算してみます．"
   ]
  },
  {
   "cell_type": "code",
   "execution_count": 4,
   "metadata": {},
   "outputs": [
    {
     "name": "stdout",
     "output_type": "stream",
     "text": [
      "Expected: 70\n",
      "Actual: 0"
     ]
    }
   ],
   "source": [
    "array_1 = [1, 2, 3, 4]\n",
    "array_2 = [5, 6, 7, 8]\n",
    "\n",
    "expected = array_1\n",
    "  .zip(array_2)\n",
    "  .reduce(0) do |reg, d|\n",
    "    reg += d[0] * d[1]\n",
    "  end\n",
    "\n",
    "print \"Expected: #{expected}\\n\"\n",
    "print \"Actual: #{actual}\" # まだ計算結果はアップデートされていない"
   ]
  },
  {
   "cell_type": "markdown",
   "metadata": {},
   "source": [
    "今度はObservablesにサンプルを入力して計算させてみます．"
   ]
  },
  {
   "cell_type": "code",
   "execution_count": 5,
   "metadata": {},
   "outputs": [
    {
     "name": "stdout",
     "output_type": "stream",
     "text": [
      "Expected: 70\n",
      "Actual: 70\n"
     ]
    }
   ],
   "source": [
    "ob_1.sample_input_from_array(array_1)\n",
    "ob_2.sample_input_from_array(array_2)\n",
    "ob_1.execute # ここでActualがアップデートされる\n",
    "\n",
    "print \"Expected: #{expected}\\n\"\n",
    "print \"Actual: #{actual}\\n\""
   ]
  },
  {
   "cell_type": "markdown",
   "metadata": {},
   "source": [
    "## displayを用いたハードの確認\n",
    "\n",
    "iMulveryの特色である `display` の機能を用いて生成されるハードウェアをビジュアライズします．  \n",
    "最適化を施さない状態では，Mulveryの記述が素直に表示されます．"
   ]
  },
  {
   "cell_type": "code",
   "execution_count": 6,
   "metadata": {},
   "outputs": [
    {
     "data": {
      "image/png": "[encoded data removed]",
      "text/plain": [
       "\"\\x89PNG\\r\\n\\u001A\\n\\u0000\\u0000\\u0000\\rIHDR\\u0000\\u0000\\u0002\\xBC\\u0000\\u0000\\u0001\\u0018\\b\\u0002\\u0000\\u0000\\u00001\\xBD\\xB2q\\u0000\\u0000\\u0000\\u0006bKGD\\u0000\\xFF\\u0000\\xFF\\u0000\\xFF\\xA0\\xBD\\xA7\\x93\\u0000\\u0000 \\u0000IDATx\\x9C\\xED\\xDDy@\\u0014\\xF5\\xFF\\xC7\\xF1\\xCF\\u0002\\v˩\\u0010\\n\\x82\\x88\\xA6\\xE2m_\\xAF<J4풢L43-M3\\xBBԟ\\xE5\\u{75F3E}\\xA9\\xA9e\\xA7fj_\\xCD\\xD4<Ҿe\\xA8ii\\x9A\\xA4\\x95W\\x89\\xF7\\u001D\\u001E\\xE0\\x81 rH\\xB2,\\xBF?\\xB6\\x90\\x90]\\u0006v\\xD8\\xFD\\xCC\\xF0|\\xFC\\xC5\\xEE~\\xF63\\x9F\\x9D\\xF9\\xCC\\xF8rv\\xF6=\\x86\\xE4\\xE4d\\u0001\\u0000\\u0000P\\u001A7W\\u000F\\u0000\\u0000\\u0000h\\u0003\\xA1\\u0001\\u0000\\u0000(Bh\\u0000\\u0000\\u0000\\x8A\\u0010\\u001A\\u0000\\u0000\\x80\\\"\\x84\\u0006\\u0000\\u0000\\xA0\\b\\xA1\\u0001\\u0000\\u0000(Bh\\u0000\\u0000\\u0000\\x8A\\u0010\\u001A\\u0000\\u0000\\x80\\\"\\x84\\u0006\\u0000\\u0000\\xA0\\x88\\x87Z\\u001D\\xE5\\xE5\\xBB%\\xA5\\xFA\\xA4\\xA4\\x9B\\xB2s=\\xF2\\xF2\\rju\\xAB\\u0015F\\xF7\\u0002_\\x93\\xB9F`ndp\\x8E\\xD1\\xDD\\xE2\\xEA\\xE1\\x94A%\\xDFp\\u0015\\x8D\\x89\\x81b\\x98\\u0012(F[S J\\u0019\\xE9\\xE44\\xD3\\xFE\\xB3Un\\x989o!<=,\\xCD\\\"2\\u0082r]=\\u0010E\\xD8pN\\xC3\\xC4@1L\\t\\u0014\\xA3\\x89)\\xA1Bh8y\\xD1\\xEF\\xD09\\u007FUF\\xA3\\e\\x8Dkf\\xD6\\r\\xC9r\\xF5(J\\xC1\\x86s>&\\u0006\\x8AaJ\\xA0\\u0018ɧ\\x84\\xA3\\xB119\\xCD\\xC4d\\xBAաs\\xFE\\xC9i&W\\x8F\\xC2\\u001E6\\x9CK01P\\fS\\u0002\\xC5H>%\\u001C\\n\\ry\\xF9n\\xFB\\xCFVQk(:\\x93xF\\xDESyl8\\u0017bb\\xA0\\u0018\\xA6\\u0004\\x8A\\x91yJ84\\xAC3\\xA9>\\xD2~0\\x97\\xCB\\xCBw;{\\xC5\\xC7գ(\\u0019\\e΅\\x98\\u0018(\\x86)\\x81bd\\x9E\\u0012\\u000E͆\\x94tyO\\xA1\\xC8@\\xDA\\xF5#\\xED\\xC0*\\ti\\u05FF\\xB4\\u0003\\xD3=i\\u05FC\\xB4\\u0003\\xD3=i\\u05FCC\\xA1!+W\\xB5_l꒴\\xEBGځU\\u0012Ү\\u007Fi\\a\\xA6{Үyi\\a\\xA6{Үy\\a\\xAFi৺\\xF6H\\xBB~\\xA4\\u001DX%!\\xED\\xFA\\x97v`\\xBA'횗v`\\xBA'\\xED\\x9A\\xE7\\xCB*\\u0000\\u0000\\xA0\\b\\xA1\\u0001\\u0000\\u0000(Bh\\u0000\\u0000\\u0000\\x8A\\u0010\\u001A\\u0000\\u0000\\x80\\\"\\x84\\u0006\\u0000\\u0000\\xA0\\b\\xA1\\u0001\\u0000\\u0000(Bh\\u0000\\u0000\\u0000\\x8A\\u0010\\u001A\\u0000\\u0000\\x80\\\"\\x84\\u0006\\xFC\\xC3c\\aF\\u000E\\x895l\\xFBv\\xAE\\xAB\\xC7\\u0002\\xD8\\xC3\\\\\\xAD\\f6\\xAE\\x9E1\\xA6\\u007F\\xF8\\x90X\\xC3\\xC1=\\e*\\xC3r\\xE5GhPA\\xEA\\x85S\\xF1\\xCB&ef\\\\r\\xF5@Tкc\\xEF7\\xE6\\u001E-\\xFA\\xCC\\xF1\\u0003\\xDBF\\xF4\\tJN:\\xE0`\\xCF9Y\\xE9\\x8B?\\u001C4\\xE1\\xF9\\u0006\\u0013\\x9Eo8\\xFB\\x8D\\x87/\\xA7\\x9Ct\\xB0CT4\\xB56}\\u0005\\xB9u\\xAE\\xCAO\\xEB\\xC7\\n\\xE7O\\x89\\az\\x8E\\u00191u\\xB3s\\x96U\\xF4\\xD39s\\xB9\\xDABhP\\xC1\\xE5\\v\\xA7\\xD6.\\xFFO\\xE6U\\xAD\\u001E\\b\\xEC\\xF3\\xF2\\xF6\\xBB\\xADz\\xA4\\xD1\\xD3ۑN\\n\\n,\\xB3\\xDFx8\\xF3\\xEA\\xA5\\t\\xB3\\xF7\\xFF\\xE7\\xE3\\xC3!\\xE1\\r\\xDEy\\xADsv\\xE6\\u0015\\xB5\\u0006\\x89\\x8A\\xA0ʦGQZ?V\\xE8{J\\xE8\\xFBө\\x85ЀRԪ\\xDBr\\xDC\\a\\xBFU\\xABQבN\\xF6n\\xFF\\xF2\\xE4\\xE1\\u001Dq\\u0003\\xDF\\xF6\\xF0\\xF04\\u0018\\f\\x8F\\xF6\\x9B\\x9C\\x93u\\xF5\\xFB\\xAF\\xDFUk\\x90\\xA8\\b\\xAAlz艾\\xA7\\x84\\xBE?\\x9DZ$\\xBD\\x8FV\\x89.\\xA7\\x9C\\\\\\xB5\\xE0\\x95+\\x97\\x92\\f\\u0006\\x83\\xA7\\x97O\\xAB\\xBB\\u001F\\xEF\\xFA\\xC8\\xF0-kg\\xAF\\x987T\\b\\xD1\\xEF\\xA5yW.'%l\\x98\\x9Fu-\\xB5u\\xC7ރG\\xAF\\u0010B\\u001Cܻ1~\\xD9Ĭk\\xA9FO!m\\xEF\\xE9ס\\xEB\\u0000[\\xFD\\u00176\\xCE7\\xE7\\xD5o\\u001A\\u001D7\\xE0\\xAD*A5\\x84\\u0010\\xF1\\xCB&m]\\xF7Qֵԉ\\xB3\\xF7\\x87E6=\\xB0{\\xFD\\xE2Y\\xCFf\\xA4\\xA5\\f|eI\\xDB{\\xFA}\\xBBjڦ\\xAF\\xDF\\u0015B\\xBC7\\xEE^7w\\x8F\\xA0\\xE0\\x8813\\u007Fv\\xCE\\nQ\\xD1\\xD6u\\u001Fm\\xFC\\xF2\\xAD\\xEC\\xCC+\\xB5\\xEA\\xB6\\xEC\\xFD܇\\x85\\xCF\\xEFؼh\\xCD\\xE2\\u05EF\\xA6%?5\\xF4\\x93\\xBB\\xEF\\u007F\\xB6\\xE8ھ\\x94r\\\"a\\xE3|/\\x93_\\xE7\\x87^\\xEA\\xD6k\\xAC\\xFD\\xFE\\xF7\\xEE\\xF82 04\\xB4fC\\xEBCO/\\x9F\\xDB\\e\\xB6ۻ\\xFD\\xCB\\xEEOM\\xAD\\xB8\\u000F\\u0005G\\xA8\\xB5\\xE9m\\xB1\\xBF\\xE7&\\xEEZ\\xBBv٤\\xEB\\xD9\\u0019\\xF9\\xF9y\\x8D[>\\u00107\\xE0-o\\xDF*\\xD67ښ\\xAB\\xF6\\xF7Sk\\e;\\a\\u0004;K\\xBCU\\xE5<V8>%J<\\x86+\\xD9pB\\x88\\xDC뙟\\xBE\\xFBt\\xE2\\xCExa0\\xB4\\xBD\\xA7_\\xCFg\\xDE\\xF60z\\xD9\\xEA\\xD3\\xFA\\x96\\u00127\\xB7\\xAD\\x89פՃE?]\\xA9\\xCB\\u0015e\\x9C3\\xBA\\xA1\\xA53\\rs\\xA7Ņ\\xD7n>\\xFE\\xC3\\xDF\\xC7}\\xF0۽\\xDD_Y\\xB3d\\x9C\\u0010\\xA2}\\xD7\\xFE\\x93\\xE6\\u001C\\u0014Bl\\xDB0\\xCF\\xD3\\xD3\\xFB\\xD57\\xB7t\\x8Ey\\xD1\\xDA>q\\xD7\\xDAY\\x93b\\xBA\\xC4\\u000E\\x9B2\\xFFĄY\\x89u\\xA2\\xEE\\\\1\\xF7e[\\x9D[\\ew}d\\xF8\\x94\\xF9'&\\xCF;v=;c濣s\\xAFg\\n!b\\x9F\\x9C\\xF4\\xEC\\xA8\\xE5\\x85-\\x9B\\xB6\\x8E\\x990+\\xB1\\xF0a\\xB7^c\\xAD\\xAF\\x8E\\x98\\xB2iƢs\\xDA:\\nX\\xEDڶ|\\xF9ܗ\\xEF\\xED\\xFE\\xCA;\\x9F\\xA7>5\\xF4\\xBFk\\x96\\x8E+|\\xA9C\\xD7\\u0001o̻\\xF9\\xB5q\\xE1\\xDAN\\xF8\\xEE\\x93\\xC0\\xE0\\x9A\\xA3\\xA6'\\xB4\\xED\\xDC\\xF7\\xEBů\\x9D:Rʧ>\\xFFGb\\xB5\\xD0ۋ>\\u0013\\u001CR\\xE7R\\xF2\\xF1\\xBC\\e\\xB9\\xAA~\\u0014\\xA8F\\xADMo\\x8B\\x9D=w߯k\\xE6L~\\xA4K\\xEC\\xB0\\xC9\\xF3\\x8FO\\x98\\x95x\\xEE\\xF4\\xBE9S\\u001E-((\\u0010v\\xE7\\xAA\\xFD\\xFDT\\xD8= \\xD8Y\\xE2\\xAD*\\xED\\xB1\\xC2\\xF1)Q\\xE21\\xBC\\xD4\\rg\\xB5n\\xE5\\xE4\\xB6\\xF7\\xF4{\\xE7\\xF3\\xCBύY\\xB9\\xE3\\xFBOW-x\\xD5N\\x9F\\xC2\\xF6\\xE6\\xB65\\xF1\\x8A}\\xBAR\\x97[\\xA69\\xA3'\\x9A\\t\\ry7rϝ\\xDE\\u0017\\u001CR\\xC7\\xFA\\xB0e\\x87\\xB8\\xFB{\\x8C\\u0014B\\x98\\xBC\\xFD\\x83\\xAA\\xD5\\u0012B\\u0004\\u0006G\\xC4\\xF4\\u001E\\u0017\\u0016\\xD9\\xF4\\xA1>\\u0013\\xEE\\xBAo\\xA0\\u0010b\\xF5\\x82\\x91\\xB5\\xA3\\xDA\\xDC\\xD9\\xE9I!\\x84\\xC1`x\\xE8\\x89\\xF1\\xDE>6c\\xE0\\xEA\\u0005#\\xEBD\\xDD\\xD9&\\xBA\\x8F\\u0010\\xC2\\xC3\\xE8\\xD5s\\xE0\\xCCK)'~\\\\7\\xC7\\t\\u001F\\xCD\\xE5\\xE2\\x97M\\x8A\\xACߺ\\xEB#Í\\x9E\\xA6\\x90\\xF0\\xA8N\\xDD^\\xB0ղpmW\\v\\xAD\\xDB%vXx\\xEDfݟ\\x9Aj\\xF44\\u001DM\\xDCb\\u007F\\u0011Y\\xD7RM>\\u0001\\xFF\\xE8\\xCA'\\xA0\\xA0\\xC0\\x92\\x93\\x95\\xAE\\xCAG@E+\\xF7\\xA6/\\xB5\\xC3[\\xF7\\xDC/?\\u001D\\u001Dq{\\x8Bv]\\x9E\\u0016B\\x98|\\u0002b\\xFBL:v\\xE0\\xC7#\\xFB6\\x8B\\xB2\\xCC\\xD5[\\xD99 \\xD8Yb\\x89\\xFDT\\xDAcEQe\\x9D\\u0012\\xB6\\x8E\\xE1\\n5i\\xF1@\\xE3\\u0016\\xF7\\xBB\\xB9{4\\xFA\\xD7}\\u001D\\u001F\\u0018\\x9C\\xB0q\\xFEմd;}\\xDA\\xDA\\xDCv&\\x9E\\xF2\\xE5\\x8A2\\xCE\\u0019=\\xD1Lh0z\\x9Aj\\xD7o\\xB3b\\xDE\\xD0\\xD5\\vG\\x9E=\\xF5\\x9B\\u0010\\xE2\\xE1>\\u0013\\x8B6\\xA8\\xD7\\xF8.\\xEB\\u001F\\u0001UC\\u001A\\xB7\\xB8?=\\xF5\\xDC\\xC5\\xF3Gk\\xD7oS\\xA4\\a\\xEF\\u0019\\x9F\\x9D/\\xB1sk\\xE3Ȩ\\x9B\\x8DC£\\xBC}\\xAB\\u001C\\u07B7I\\xFDO\\\"\\x99\\xEC̴\\x8B\\xE7\\x8F\\xDDް}\\xE13\\x91\\xF5Z\\x95\\xFA\\xAE\\xC2\\u0015\\xEB\\xE6\\xEE\\u0011P5\\xF4\\xDAՋe]ne\\x88\\xE4\\xBA\\xE4\\xF8\\xA6/\\xA6\\xA4=\\xF7X\\xDDF\\u001D\\n\\eD\\xD4m!\\x848\\xB2os\\xF9檕\\x9D\\u0003\\x82\\x9D%\\xDA\\xEA\\xA7r\\u001E+lQ8%J=\\x86\\xDB\\u0017Y\\xBFu\\xE1\\xDFu\\eu\\xC87\\xE7\\x9D9\\xB1\\xC7V\\x9FJ\\x8E\\xFF\\xC5&^\\x99\\x96[\\xA69\\xA33Z\\xBA\\xA6a\\xF8\\xE4\\xEF6\\xAE\\x9E\\xB1c\\xF3\\xA2\\xEF\\xBFz'$\\xBCA\\xF7\\xA7\\xA7\\xB6\\xEC\\u0010W\\xF8\\xAA\\x8F_`\\xD1\\xC6Y\\xD7R\\x85\\u0010\\xBE~AJz\\xFE\\xAB\\xB1\\xEF?z\\xF0\\xF5\\v\\xB2>\\xB00\\a{\\xA8\\b\\xF3\\xE2o\\xFE\\x83\\x9D\\x91\\x9E\\\"\\xFE\\xF9ٽ}\\xAB\\x96\\xDACѯ\\xEE\\xDC\\xDC\\xDD-\\x96|\\xFB\\xED\\xFD\\u0002\\x82ss2\\x8B>\\xF3\\xE7\\xF5L\\x83\\xC1\\xAD\\xD8VC\\u0005\\xB9x\\xF1\\xE2ʕ+\\u0013\\u0013\\u0013\\u05EF_o\\xA7YщaKY7}\\xA9J\\xDCs\\u007Fݲ4qg|хfg\\xA5\\x95o\\xAE\\u0016\\xED\\xB6\\xC4\\u0003\\x82\\x9D%\\xDA\\xEC\\xA7R\\u001E+lQ>%\\xEC\\u001F\\xC3KYJ\\x91\\xF3\\xC4>\\xFEAB\\b\\xEB\\xFF\\xF8K\\xECS\\xC9\\xF1_\\xE1\\xC1\\xA7\\xC4\\xE5\\u0006\\u0006G\\b\\xC5sFg\\xB4\\u0014\\u001A||\\xAB>\\xD6\\u007FڣOM9\\xB4w㚥\\xE3\\xE7O\\u007F|¬}a\\x91MKl\\xEC\\u0017\\u0010,\\x84\\xC8\\xCEVt\\xF6\\xFB\\xAF\\xC6\\xFF\\xDC\\xDE\\xD9Yi\\x85\\x97Ѻ\\xB9\\xB9\\x8B\\\"\\xFF9\\xFE37\\xAB\\xBC\\u001FB:U\\u0002k\\x88\\u007F~\\xF6\\xEB\\xD9WU_Jx\\xED\\xE6\\xC7\\u000Fn+\\xFAL\\xEA\\xC5\\xD3\\xD5\\xC3\\xEA\\e=M\\xAA/\\v\\x85,\\u0016˶mۖ.]\\xFA\\xFD\\xF7\\xDF\\xE7\\xE5\\xE5\\xB9z8\\x8AXwƎ\\u000F>\\xD7c\\xC0\\x8Cb/eg\\xA6\\t\\xBBs\\xD5\\xCE~j\\xE7\\x80`g\\x89\\xB6\\u001AW\\xCEc\\x85\\xE3l\\u001DÕ\\xAC\\xB4\\xEB9\\u0019\\x85\\u007Fg_\\xBB\\\"\\x84\\xA8\\u001A\\u0014f\\xAB\\xCF2\\u001D\\xFF\\xED+q\\xB9e\\x9A3:\\xA3\\x99А\\x93}u\\xED\\xB2I\\x8F\\u000F~\\xDF\\xCDͽi\\xEB\\x98j5\\xEAMx\\xBEA\\u{990F6}BC`p͐\\xF0\\u0006I\\xC7w\\u0017>\\x93{=\\xF3\\xFD\\xF1\\xF7\\r\\x9D\\xB8\\xDE\\u05FFx\\xFC\\xB46\\xFE\\xE3\\xF8\\xAE\\xC2g.%\\u001F\\xBF\\x9E\\x9D\\xD1\\xE8\\x8E{\\xAD\\u000F\\xFD\\xABV\\u0017\\u007F\\xFF'C\\b\\x91r\\xE6Pѷ\\xBB{\\u0018\\xC5\\xDF3\\xFEġ\\x9FB\\xC2\\e\\xF8W\\xA9f})99ف\\u000F]Q\\xE2\\xF7\\xDC\\xFC\\xDB\\xD7?($<\\xAA\\xE8\\xB5KgN\\xFD\\xA6\\xFA\\u0012[t\\xE8\\xB1;a\\xE5\\xC5\\xF3GC\\xC2\\e\\b!\\xF2n\\\\?}\\xF4\\xD7{b\\x87\\xAA\\xBE X]\\xBAtiժUK\\x97.MJJ\\u0012B\\xB8\\xBB\\xBBw\\xECر_\\xBF~111\\xEE\\xEE\\xEE\\xB6\\xDEUtb\\xB8J`p\\xCDК\\rϝ\\xDEW\\xF4\\xC95K\\xC77h~O\\xC3\\xE6]\\xEC\\xCFU;\\xFB\\xA9\\x9D\\u0003\\x82\\xFD%\\xDE:\\xBCJ{\\xACp\\x90\\x9Dc\\xB8\\xFD\\x95fu\\xE6\\xE4\\xDE\\xD6\\u001D{[\\xFF>yd\\x87\\xBB\\x87\\xB1V\\xBDV\\xB6\\xFAlݱ\\xB7\\xF2\\xE3\\xBF}%.\\xB7jP\\x98\\xF29\\xA33\\x9A\\xB9\\xA6\\xC1|#w\\xEB\\xFA9'\\u000Fo\\xB7><~p\\x9B\\xA7\\x97O\\x9D\\u0006\\xED켥砙\\u007F\\u001C۹;a\\xA5\\u0010\\xC2b\\xC9_\\xB3d\\xDCm\\xD5\\\"m͘\\x9E\\x83f\\xFEql\\xD7\\xCE\\u001F\\x97\\t!\\xCC\\xE6\\e\\xAB\\u0017\\x8E\\xAA^\\xA3^\\xA7\\x98\\xBF.\\xB3\\xAA\\u001EV? 0\\xF4\\x97-K\\n\\n\\n\\xAEgg\\xECؼ\\xA8\\xE8{\\xAD\\x97դ_9g\\xCE\\xFBs\\xEE\\x9B=r\\xB4v\\x86*\\xF6\\xC9II'\\xF6l\\x89\\x9F\\x95o\\xCEK\\xBDxzêi\\xAA/\\xA2\\xD5]=\\xEB6\\xEA\\xF0姣\\xCD\\xE6\\e\\u0005\\u0005\\u0005\\xDF,\\x9D`\\xF2\\t\\xB8\\xAF\\xFB+\\xAA/\\xA8\\x92\\xB3X,\\t\\t\\tC\\x86\\fiӦ\\xCDԩS\\x93\\x92\\x92BCC_z\\xE9\\xA5_~\\xF9e\\xE5ʕ\\xB1\\xB1\\xB1v\\u0012\\x83<z\\rz\\xE7\\xF0\\xBE\\xCD{w|i}\\xB8\\xE7\\xA7U?o^\\u0014Q\\xE7_\\xA2\\xB4\\xB9j\\u007F?\\xB5s@\\xB0\\xB3\\xC4[U\\xE6c\\x85#\\xEC\\u001C\\xC3\\xED\\xAF4\\xAB\\x9D?.?\\xB6\\u007FkA\\x81\\xE5H\\xE2\\u000Fۿ[\\xD0\\xF1\\x81\\xE7\\xAA\\u0006\\x85\\xD9\\xE9\\xB3L\\xC7\\u007F;J\\\\\\xAE(\\xE3\\x9C\\xD1\\u0013\\x83#\\xF16~O\\r\\u0015\\x87b\\x9F9\\xEF\\xCF\\r\\xAB\\xA7\\xFF\\xFE\\xCB\\u001A!\\n,\\x96|\\u001F\\xBF\\xC0G\\xFA\\xBE\\u0011մS\\xE2\\xCE\\xF8\\xE5s_N\\xBB|\\xC6\\xD7\\xFF6\\x93\\xB7߄Y\\x89E\\xAF\\xD2?\\xB8g\\xC37\\xCB&fg^\\xF1\\xF4\\xF2\\xA9\\xDF$\\xBAǀ\\u0019^&_[\\x8B(llλ\\u0011\\xD54:\\xAD\\xBF\\xBD\\xB6:\\x92\\xF8\\xC3\\xCAyò\\xAE\\xA5\\x86\\xD5j\\xF2\\xE8\\xD3Sg\\x8Cl\\xEF\\u0017\\u0010ܴu\\xCC3#>\\u0013B\\xFCoј\\xDD\\t+=\\xBD|[t\\xE8\\xF1h\\xBFɅ\\xEF\\x8Am\\x95R1\\xEB\\xC3!\\xB7n\\xB8\\xAD\\xEB\\xE7l\\\\=#;\\xF3Jh͆qϼ\\xFD\\xEE\\xEB]|\\xFD\\x83\\xEA7\\x89n\\xD1\\xFE\\xB15K\\xC7[Wo\\xA3\\u007F\\xDD۶s\\xDFµݮ\\xCBS\\u000Fƍ\\x99>\\xB2]\\xFA\\x95\\xF3\\x9E\\x9E\\u07B5\\xEA\\xB6|u\\xDAV;\\v\\xCD\\xC9J_\\xB5\\xE0\\xD5\\u0013\\x87~2\\u0018ܪ\\x87\\xD5{|\\xF0\\xFB\\xD5kԫ\\xC0\\u000F)7\\xD5'ƭ\\xA7\\u0016:t\\xE8Pꩅb\\x8AN\\x8C_~X\\xAC֦/\\x91\\xFD=\\xF7\\xD0o\\xDF\\xC5\\u007F>\\xF1\\xDAՋ\\u07BEUo\\xAB\\u001E\\xD9c\\xC0t\\xEB9*a{\\xAE\\xBE\\xF0\\xFAW\\xA2\\xB4\\xFD\\xD4\\xCE\\u0001\\xC1\\xCE\\u0012oU9\\x8F\\u0015\\u000EN\\t[\\xC7p뫶VZXD\\xE3\\u001F\\xE2?\\xBC\\x9A\\x96\\xDC\\u007F\\xF8\\xC2\\xDF~\\xFE\\xEA\\xF8\\xC1m\\u0006\\x83[\\xDB\\xCE}{\\u000E\\x9C\\xE9a\\xF4\\xB2\\xDFg\\x89\\x9B\\xDB\\xD6\\xC4+\\xF6\\xE9j\\xDD\\xDE\\xC2\\xCEr\\xAD\\xFD\\x97iΔ\\x83\\x9CSB3\\xA1A\\xA3\\xE4\\xDC\\xEAl8\\xE7H\\xBDp\\xEA\\xE7\\u001F\\u0016w~\\xE8E\\xFF*Ջ\\xBD\\xA4\\xD6İX,۷o_\\xBAt\\xE9\\x86\\r\\e\\xACW-\\x84\\x86\\x86\\xC6\\xC5\\xC5\\r\\u00180 <<\\xBC\\xAC\\xBD11\\\\\\x88c\\u0005\\x8A\\x91sJh\\xE6\\x9A\\u0006@\\bq\\xFC\\xC0\\xB69S\\xBB\\x8F\\x9A\\xBE\\xCDֵ,R\\xB1\\xDEh\\xA0\\xD5]=o\\r\\r\\x8E+\\xDFU\\v\\u0000\\xE0\\bB\\u0003\\xB4\\x84;ʨ{j\\u0001\\u0000ʄ\\xD0\\u0000\\xD5|\\xF2\\xD6\\u0013%>o\\xBD\\x9B\\x80*\\xACw\\x94Q\\xAB7\\x85$\\xB9\\xD1\\u0000\\xA7\\u0016\\u0000\\xB8\\u001C\\xA1\\u0001\\xAAQ+\\u001C\\\\K\\xBF0vPm\\xEB/\\xA1\\x85\\u0010\\xF9\\xE6\\xBČK-;\\xC45\\xBB\\xF3\\xE1\\xA2w\\x94\\xF9vմ\\u001F\\xBE\\xF9\\xE0\\xDAՋ\\xFD\\x87/L\\xDC\\u0019\\u007Fx\\xDFf77\\xF7bw\\x94q\\\\⮵s&?:h\\xE4\\xD26\\xD1}\\xCCy\\u007FΛ\\xDEk濣_\\xFF`\\xAF\\xC9\\xDB?\\xF6\\xC9I\\xF5\\u001A\\xDF\\xFD\\xFE\\xF8\\xFB\\xAC-\\xAD5\\xF3_\\xED\\xFB\\xD7/\\xE8\\xBA\\xF5\\u001A[\\xBB~\\x9B\\xF7\\xC7\\xDF7b\\xCA&G\\xBEL\\xE1\\xD4\\u0002\\u0000y\\u0010\\u001A \\xA3z\\x8D\\xEF\\u001E1寺\\xBC\\xCB>~q\\xFB\\xF7\\v\\u001F\\xEA3\\xA1f\\xED\\xE6\\xAD\\xEE\\xEA9\\xAC\\x97\\xBF\\xF5\\xF9n\\xBDƶh\\xFF\\xD8\\xC4\\u0017\\u001A\\xADY:\\xBE\\xFF\\xF0\\x85ύ\\xF9\\xE2\\xE8\\xFE-\\u001FO\\xEDQ`\\xB1\\xF4y~\\xB6Z#\\xB9\\xF5F\\u0003\\u0013\\x9Eo\\xF0\\xE3\\xBA9\\u000F\\xF4\\u001C\\xA3\\xD6\\\"l\\xE1\\xD4\\u0002\\u0000\\xD9\\u0010\\u001A \\u001D\\x93O@\\xF4\\x83C\\xAC\\u007F\\u001Fؽ\\xFE\\xC7\\xF5\\u001F\\xF7\\u001C8\\xB3f\\xED\\xE6\\xB6\\xDA\\xDF\\u0019\\xDD\\xC7Z:\\xDEzG\\x99-\\xEBfw{\\xFC5\\xEBo\\xA9\\u001Dd\\xAD`_\\xB4\\bU\\xE1\\x8D\\u0006*.4pj\\u0001\\x80\\xB4\\b\\r\\x90\\x8E\\xA7\\x97O\\xAB\\xBB{\\t!23.\\u007F\\xF6\\xC1\\xC0\\x86ͻ\\xDCk\\xB7\\fT\\xB1;\\xCAlZ\\xF3ޙ\\u0013{\\xAAީBhp\\xED\\x8D\\u0006\\x8CFcLLL\\xBF~\\xFD\\xA2\\xA3\\xA3\\xDD\\xDC4S\\x87\\r\\x80\\x8E\\u0011\\u001A \\xAF%\\xB3\\u0006\\x9B\\xF3\\xFE\\u001C0\\xE23\\x83\\xC1`\\xA7\\x99\\xAD;\\xD98\\xCEU7\\u001A\\x88\\x89\\x89i\\u07BCy\\xEF\\u07BDCBBT\\xE9\\u0010\\u0000TAh\\x80\\xA4\\u00126~\\xB2\\xEF\\xD75ώZ\\u001E\\u0018\\\\\\xD3~K[w\\xB2q\\\\e\\xBB\\xD1\\u0000\\u0000\\xD8\\xC79O\\xC8\\xE8RʉU\\xFF\\u001DѶs\\xDF6\\xD1\\u007F\\xFD\\x8CsK\\xFC,[\\x8DϜ\\xDC[\\xF8w\\xE1\\u001De\\xD4\\u001A\\t7\\u001A\\u0000\\x80B\\x84\\u0006Hǒo^\\xF8N?\\xBF\\x80\\xE0>\\xCF\\u007FT\\xF8\\xE4\\xB6\\r\\xF3l\\xB5?\\xB8gC\\x89w\\x94QE\\xF36\\u000F\\u000F\\x9D\\xB8n\\xF37\\u001F\\x8C{\\xAE\\u07B8\\xC1\\xF5L\\xDE~#\\xA7o+\\xBCK\\x82\\x87\\x87砑\\x9F\\xFFql\\xE7\\xE8\\xA7k\\xCC}\\xB3\\x87\\xF5ڋ/\\xFE;\\xE2\\xD3\\xF7\\xFA\\v!\\x82C\\xEA<\\u00107zٜ\\u0017\\xA6\\fo\\xD9\\xF1\\xC1!\\xEA֥\\a\\u0000\\xE7s\\xE8\\xDE\\u0013\\e~\\u000F\\xCD˷\\xF7es%gt/x\\xF0_\\u0017\\\\=\\x8A\\u0012ة'\\xBF;a嗟\\x8EN\\xBB|\\xA6\\xEF\\x8B\\u001FGw{^\\xDD\\xE5\\xA6^<\\xBD`fߌ\\xB4\\xE47\\u0017\\xFCa\\xA7\\xD9\\xDE\\xED\\xAB\\xE7M\\xEFe\\xF2\\t\\xF0\\xF5\\xBBy\\u0005\\xA2\\xD1ӻ[\\xAF\\xB1E\\xEF(3x\\xF4\\x8A\\v\\xE7\\x8EL|\\xA1\\xD1\\xE01+\\u0013w\\xC6\\u001Fؽ\\xBE\\xA0\\xA0\\xA0\\xD8\\u001De\\xA4%gUy\\xF6hW\\x91\\xF6X\\xC1\\x94p\\u0015i\\xA7\\x84C\\xD74\\xF8\\x99\\xCC\\xE9\\xD9F\\xB5\\x86\\xA2?~&\\xB3\\xAB\\x87Pf\\xAD;\\xF6\\xBE\\xA3\\xED\\xA3/\\xC7ݬӬ\\xD6\\xED\\u001E~\\xDD\\xFA\\xF9\\x9A%\\xAF\\e\\f\\xA5\\x9F\\xDCjyW\\xCFy\\xF1\\u0005%\\xBEԮ\\xCBӷ>\\xE9\\xED\\u001D0\\xF0\\x95%\\x8E\\x8C\\rV\\xECѮ\\\"\\xED\\xB1\\x82)\\xE1*\\xD2N\\t\\x87\\xBE\\x9E\\xA8\\u0011\\x98\\xAB\\xD68tI\\u001F\\xEBG\\x95\\xDB=\\xFC\\x99\\x9B\\xBD\\xFD\\xFB\\u0005\\xA3f\\xFC\\u0014n\\xBB\\xDC\\u0002\\\\N\\u001F3V\\x8B\\xA4]\\xF3\\xD2\\u000EL\\xF7\\xA4]\\xF3\\u000E\\x85\\x86Z\\xC19\\x9E\\u001E\\u0016\\xB5\\x86\\xA23\\x9E\\u001E\\x96\\x88\\xDBr\\\\=\\n\\u0015Xo\\xF7P\\xF8#\\xC3\\xF2\\xF1\\xF4\\xF2\\u00191eS\\xA9\\xBF\\x83\\x80k\\xB1G\\xBB\\x84\\xCC\\xC7\\n\\xA6\\x84K\\xC8<%\\u001C\\n\\rFwK\\xB3\\x88\\x8C\\xD2\\xDBUJ\\xCD\\\"24\\xB4\\xB3m]\\xF7\\xD1؁\\x91\\xC3z\\xF9\\xCD\\xFCw\\xF4\\x85sG\\n\\x9F߱yј\\xFE\\xE1Cb\\r?}\\xF7_!Ė\\xB5\\xB3\\x87\\xC4\\u001A\\x86\\xC4\\u001A\\u00126\\xCC\\xFF\\xF2\\xD3\\xD1\\xFF\\xF7D\\xD51\\u0003j~\\xBBjZ\\xA9\\xFD\\e\\f\\u0006%_L\\x94ɷ\\xAB\\xA6\\xBD3\\xB6\\xB3\\u0010b\\xE1\\xBBO\\xAD\\x98?L\\xDD\\xCE+'\\xF6h\\x97\\x90\\xF9X\\xC1\\x94p\\t\\x99\\xA7\\x84\\xA3u\\u001A\\u0082r\\xAF\\xE7e\\u001E:\\xE7\\xAF\\xCAht\\xA3q\\xCD̰ IO.\\xDDj\\u05F6\\xE5\\xCB\\xE7\\xBE\\xFC\\xF8\\xE0\\xF7\\xA3\\u001F\\u001C\\x92v\\xF9̪\\u00057\\xCB/v\\xE8:\\xA0\\xE8\\xED\\u001E\\xDAw\\xED\\xDF\\xF0\\x8E.\\x93^l\\x92\\xF0\\xDD'\\xED\\xEEyj\\xD4\\xF4\\x84_\\xB7.\\xFDz\\xF1k\\r\\x9Au\\xBE\\xBDa{'\\u000F\\xBB[\\xAF\\xB1\\xDDz\\x8Du\\xF2Bu\\x8F=\\xDA\\xC9\\xE4?V0%\\x9CL\\xF2)\\xA1\\xC2\\u007F\\xFE\\xEA\\x86d\\xB5\\xAA\\x93.m,r2O\\u000FK\\xAB:\\xE9uCԩ\\f\\xE8\\u001C\\xF1\\xCB&E\\xD6o\\xDD\\xF5\\x91\\xE1FOSHxT\\xA7n/\\xD8ji\\xF2\\xF6\\xB7\\xD6\\u001E\\xA8\\u0016Z\\xB7K\\xEC\\xB0\\xF0\\xDAͺ?5\\xD5\\xE8i:\\x9A\\xB8ŉ\\xE3E\\xC5b\\x8Fv\\u000E\\r\\u001D+\\x98\\u0012Ρ\\x89)\\xA1NEȰ\\xA0\\xDCjUn$\\xA5\\xFA\\xA4\\xA4\\x9B\\xB2s=*\\xE1Ot\\x8C\\xEE\\u0005\\xBE&s\\x8D\\xC0\\xDC\\xC8\\xE0\\u001C\\xA3\\xBB\\x96v\\xAD\\xEC̴\\x8B\\xE7\\x8F\\u0015\\xBD'S\\xA4\\x82\\xCAH\\xB5뷱\\xFE\\xE1\\xE6\\xEE\\u0011P5\\xF4\\xDAՋ\\u00155>\\xB8\\u0002{t\\xC5\\xD1豂)Qq\\xB45%T+#mt\\xB7\\xD4\\vɪ'wD\\xAA$._\\xBE|\\xC7\\u001Dw\\xD8iP\\xF4\\a\\x8D\\u0019\\xE9)\\xE2\\x9F\\xF7d\\xF2\\xF6\\xADZ\\xEA\\\"\\xBC}o\\xDE\\xEE\\xC1\\xCD\\xDD\\xDDb\\xC9/\\xCF@!1\\xF6h\\u0014Ô\\x80\\xA0\\\"\\xA4\\xFE\\\\\\xB8p\\xC1~b(\\xA6J`\\r\\xF1\\xCF{2]Ͼ\\xAA\\xFE\\xB0\\u0000\\u0000\\xDA\\xC7\\r\\xAB\\xF4\\xE6\\xC0\\x81\\u0003B\\x88\\xBB\\xEF\\xBE\\xFB\\x8B/\\xBE\\xB0\\xD5&~\\xCFͿ}\\xFD\\x83B£N\\u001D\\xF9\\xB9\\xF0\\x993\\xA7~\\xAB\\xC8\\u0001\\u0002\\u0000\\xB4\\x8A3\\rzs\\xF8\\xF0a!D\\xE3ƍ\\x95\\xBF%\\xF6\\xC9II'\\xF6l\\x89\\x9F\\x95o\\xCEK\\xBDxz\\x83\\x82\\x9FP\\u0002\\u0000*!\\xCE4\\xE8\\xCD\\xC1\\x83\\a\\x85\\u0010\\x8D\\u001A5R\\xFE\\x966\\xD1}\\xB2\\xB3\\xD27\\xAE\\x9E\\xF1\\xD5ⱡ5\\e\\xC6=\\xF3\\xF6\\xBB\\xAFw\\xF9z\\xC9\\xEB\\a\\xF7nl\\xD1\\xFE\\xB15K\\xC7\\v!\\xFE\\xB7\\xE8߇\\u007F\\xDFԶs\\xDF\\xE5s_\\xB6>L>s\\xF0\\xC1\\xB81\\xD3G\\xB6K\\xBFr\\xFE\\x97\\u001F\\u0016''\\u001Dxu\\xDAV;K\\xF9\\xF4\\xBD\\xFE\\xC7\\u000F\\xFCx\\xED\\xEA\\xA5|\\xF3\\x8D\\xD7\\u0006\\xD5\\xF6\\xABR\\xED\\xB5ww\\xD9i\\u000F\\u0000\\x90\\x8DC7\\xAC\\x82\\x84:u\\xEAt\\xFC\\xF8\\xF1\\x8D\\e76k\\xD6\\xCCV\\e;7\\xAC\\x82s\\xC8y\\xC3*\\u0000\\xB0\\x8F\\xAF't%77\\xF7\\xF4\\xE9\\xD3\\u001E\\u001E\\u001EQQQ\\xAE\\u001E\\v\\u0000@o\\b\\r\\xBAr\\xF4\\xE8Q\\xB3\\xD9\\\\\\xB7n]//\\xD9\\xEF\\r\\r\\u0000\\xD0\\u001C\\xAEi\\xD0\\u0015\\xEBU\\x90e\\xBA\\xA0AE\\x9F\\xBC\\xF5D\\x89\\xCF\\u000F\\u001E\\xBD\\xC2\\xC9#\\u0001\\u0000T\\u0004B\\x83\\xAE\\u001C:tH\\bѤI\\u0013\\x97,\\x9Dp\\u0000\\u0000\\xFA\\xC6\\xD7\\u0013\\xBAb\\r\\r\\xAE:\\xD3\\u0000\\u0000\\xD07B\\x83\\xAEX\\xBF\\x9Epՙ\\u0006\\u0000\\x80\\xBE\\u0011\\u001A\\xF4#%%%===000$$\\xC4\\xD5c\\u0001\\u0000\\xE8\\u0010\\xA1A?\\xACe\\x9D8\\xCD\\u0000\\u0000\\xA8 \\x84\\u0006\\xFD(G\\u0001i\\u0000\\u0000\\x94#4\\xE8G9\\nH\\u0003\\u0000\\xA0\\u001C\\xA1A?8\\xD3\\u0000\\u0000\\xA8P\\x84\\u0006\\x9D(S\\u0001i\\xA3{\\x81\\u0013\\x86\\u0004[X\\xFF\\u00004\\x8AР\\u0013e* \\xEDg2;aH\\xB0\\x85\\xF5\\u000F@\\xA3\\b\\r:Q\\xA6\\u0002\\xD25\\u0002s+x8\\xB0\\x87\\xF5\\u000F@\\xA3\\b\\r:Q\\xA6\\u0002ҵ\\x82s<=,\\u0015<\\\"\\x94\\xCC\\xD3\\xC3\\u0012q[\\x8E\\xABG\\u0001\\u0000\\xE5AhЉ2\\u0015\\x906\\xBA[\\x9AEdT\\xF0\\x88P\\xB2f\\u0011\\u0019$6\\u0000\\u001AEhЉ\\xB2\\u0016\\x90\\u000E\\v\\xCAm\\\\3\\xB3\\\"G\\x84\\u00124\\xAE\\x99\\u0019\\u0016\\xC4w\\u0013\\u0000\\xB4\\x8A\\xBB\\\\\\xEAA\\xF9\\nH\\xD7\\r\\xC9\\xF26\\x9A\\xF7\\x9F\\xADr\\xC3Lv\\xACp\\x9E\\u001E\\x96f\\u0011\\u0019$\\u0006\\u0000\\x9AFhЃr\\u0017\\x90\\u000E\\vʭV\\xE5FR\\xAAOJ\\xBA);\\xD7#/\\xDFP\\u0001\\xA3\\xABԌ\\xEE\\u0005\\xBE&s\\x8D\\xC0\\xDC\\xC8\\xE0\\u001C\\xA3;\\xDFJ\\u0000\\xD06B\\x83\\u001E8R\\xD6\\xC9\\xE8n\\xA9\\u0017\\x92U/$K\\xEDA\\u0001\\u0000\\xF4\\x86\\xF3\\xD2z@\\u0001i\\u0000\\x80\\u0013\\u0010\\u001A\\xF4\\x80\\u0002\\xD2\\u0000\\u0000' 4h^\\x99\\nH\\u0003\\u0000Pn\\x84\\u0006\\xCD+S\\u0001i\\u0000\\u0000ʍРye* \\r\\u0000@\\xB9\\u0011\\u001A4\\xAFL\\u0005\\xA4\\u0001\\u0000(7B\\x83敩\\x804\\u0000\\u0000\\xE5Fhм\\xB2\\u0016\\x90\\u0006\\u0000\\xA0|\\b\\r\\xDAV\\xBE\\u0002\\xD2\\u0000\\u0000\\x94\\u0003\\xA1A\\xDB\\xCA]@\\u001A\\u0000\\x80\\xB2\\\"4h\\ee\\x9D\\u0000\\u0000NCh\\xD06\\nH\\u0003\\u0000\\x9C\\x86Рm\\x9Ci\\u0000\\u00008\\r\\xA1A\\xC3( \\r\\u0000p&B\\x83\\x86Q@\\u001A\\u0000\\xE0L\\x84\\u0006\\r\\xA3\\x804\\u0000\\xC0\\x99\\b\\r\\u001AF\\u0001i\\u0000\\x803\\u0011\\u001A4\\x8C\\u0002\\xD2\\u0000\\u0000g\\\"4h\\u0018\\u0005\\xA4\\u0001\\u0000\\xCEDh\\xD0*\\nH\\u0003\\u0000\\x9C\\x8CРU\\u0014\\x90\\u0006\\u00008\\u0019\\xA1A\\xAB(\\xEB\\u0004\\u0000p2B\\x83VQ@\\u001A\\u0000\\xE0d\\x84\\u0006\\xAD\\xE2L\\u0003\\u0000\\xC0\\xC9\\b\\r\\x9AD\\u0001i\\u0000\\x80\\xF3\\u0011\\u001A4\\x89\\u0002\\xD2\\u0000\\u0000\\xE7#4h\\u0012\\u0005\\xA4\\u0001\\u0000\\xCEGh\\xD0$\\nH\\u0003\\u0000\\x9C\\x8FРI\\u0014\\x90\\u0006\\u00008\\u001F\\xA1A\\x93( \\r\\u0000p>B\\x83\\xF6P@\\u001A\\u0000\\xE0\\u0012\\x84\\u0006\\xED\\xA1\\x804\\u0000\\xC0%\\b\\r\\xDACY'\\u0000\\x80K\\u0010\\u001A\\xB4\\x87\\u0002\\xD2\\u0000\\u0000\\x97 4h\\u000Fg\\u001A\\u0000\\u0000.Ah\\xD0\\u0018\\nH\\u0003\\u0000\\\\\\x85Р1\\u0014\\x90\\u0006\\u0000\\xB8\\n\\xA1Ac( \\r\\u0000p\\u0015B\\x83\\xC6P@\\u001A\\u0000\\xE0*\\x84\\u0006\\x8D\\xA1\\x804\\u0000\\xC0U\\b\\r\\u001AC\\u0001i\\u0000\\x80\\xAB\\u0010\\u001A\\xB4\\x84\\u0002\\xD2\\u0000\\u0000\\u0017\\\"4h\\t\\u0005\\xA4\\u0001\\u0000.Dh\\xD0\\u0012\\xCA:\\u0001\\u0000\\\\\\x88Р%\\u0014\\x90\\u0006\\u0000\\xB8\\u0010\\xA1AK8\\xD3\\u0000\\u0000p!B\\x83fP@\\u001A\\u0000\\xE0Z\\x84\\u0006͠\\x804\\u0000\\xC0\\xB5\\b\\r\\x9AA\\u0001i\\u0000\\x80k\\u0011\\u001A4\\x83\\u0002\\xD2\\u0000\\u0000\\xD7\\\"4h\\u0006\\u0005\\xA4\\u0001\\u0000\\xAEEh\\xD0\\f\\nH\\u0003\\u0000\\\\\\x8BР\\r\\u0014\\x90\\u0006\\u0000\\xB8\\u001C\\xA1A\\e( \\r\\u0000p9B\\x836P\\xD6\\t\\u0000\\xE0r\\x84\\u0006m\\xA0\\x804\\u0000\\xC0\\xE5\\b\\r\\xDA\\xC0\\x99\\u0006\\u0000\\x80\\xCB\\u0011\\u001A4\\x80\\u0002\\xD2\\u0000\\u0000\\u0019\\u0010\\u001A4\\x80\\u0002\\xD2\\u0000\\u0000\\u0019\\u0010\\u001A4\\x80\\u0002\\xD2\\u0000\\u0000\\u0019\\u0010\\u001A4\\x80\\u0002\\xD2\\u0000\\u0000\\u0019\\u0010\\u001A4\\x80\\u0002\\xD2\\u0000\\u0000\\u0019\\u0010\\u001A4\\x80\\u0002\\xD2\\u0000\\u0000\\u0019\\u0010\\u001AdG\\u0001i\\u0000\\x80$\\b\\r\\xB2\\xA3\\x804\\u0000@\\u0012\\x84\\u0006\\xD9Q\\xD6\\t\\u0000 \\tB\\x83\\xEC( \\r\\u0000\\x90\\u0004\\xA1Av\\x9Ci\\u0000\\u0000H\\x82\\xD0 5\\nH\\u0003\\u0000\\xE4Ah\\x90\\u001A\\u0005\\xA4\\u0001\\u0000\\xF2 4H\\x8D\\u0002\\xD2\\u0000\\u0000y\\u0010\\u001A\\xA4F\\u0001i\\u0000\\x80<\\b\\rR\\xA3\\x804\\u0000@\\u001E\\x84\\u0006\\xA9Q@\\u001A\\u0000 \\u000FB\\x83\\xBC( \\r\\u0000\\x90\\n\\xA1A^\\u0014\\x90\\u0006\\u0000H\\x85\\xD0 /\\xCA:\\u0001\\u0000\\xA4Bh\\x90\\u0017\\u0005\\xA4\\u0001\\u0000R!4ȋ3\\r\\u0000\\u0000\\xA9\\u0010\\u001A$E\\u0001i\\u0000\\x80l\\b\\r\\x92\\xA2\\x804\\u0000@6\\x84\\u0006IQ@\\u001A\\u0000 \\eB\\x83\\xA4( \\r\\u0000\\x90\\r\\xA1AR\\u0014\\x90\\u0006\\u0000Ȇ\\xD0 )\\nH\\u0003\\u0000dCh\\x90\\u0011\\u0005\\xA4\\u0001\\u0000\\u0012\\\"4Ȉ\\u0002\\xD2\\u0000\\u0000\\t\\u0011\\u001AdDY'\\u0000\\x80\\x84\\b\\r2\\xA2\\x804\\u0000@B\\x84\\u0006\\u0019q\\xA6\\u0001\\u0000 !B\\x83t( \\r\\u0000\\x90\\u0013\\xA1A:\\u0014\\x90\\u0006\\u0000ȉ\\xD0 \\u001D\\nH\\u0003\\u0000\\xE4Dh\\x90\\u000E\\u0005\\xA4\\u0001\\u0000r\\\"4H\\x87\\u0002\\xD2\\u0000\\u00009\\u0011\\u001A\\xA4C\\u0001i\\u0000\\x80\\x9C\\b\\rr\\xA1\\x804\\u0000@Z\\x84\\u0006\\xB9P@\\u001A\\u0000 -B\\x83\\\\(\\xEB\\u0004\\u0000\\x90\\u0016\\xA1A.\\u0014\\x90\\u0006\\u0000H\\x8B\\xD0 \\u0017\\xCE4\\u0000\\u0000\\xA4Eh\\x90\\b\\u0005\\xA4\\u0001\\u00002#4H\\x84\\u0002\\xD2\\u0000\\u0000\\x99\\u0011\\u001A$B\\u0001i\\u0000\\x80\\xCC\\b\\r\\u0012\\xA1\\x804\\u0000@f\\x84\\u0006\\x89P@\\u001A\\u0000 3B\\x83D( \\r\\u0000\\x90\\u0019\\xA1A\\u0016\\u0014\\x90\\u0006\\u0000H\\x8E\\xD0 \\v\\nH\\u0003\\u0000$Gh\\x90\\u0005e\\x9D\\u0000\\u0000\\x92#4Ȃ\\u0002\\xD2\\u0000\\u0000\\xC9\\u0011\\u001Ad\\xC1\\x99\\u0006\\u0000\\x80\\xE4\\b\\rR\\xA0\\x804\\u0000@~\\x84\\u0006)P@\\u001A\\u0000 ?\\u000F\\xB5:\\xCA\\xCBwKJ\\xF5II7e\\xE7z\\xE4\\xE5\\e\\xD4\\xEAV+\\x8C\\xEE\\u0005\\xBE&s\\x8D\\xC0\\xDC\\xC8\\xE0\\u001C\\xA3\\xBB\\xA5\\xACo\\xA7\\x804\\u0000@~ꄆ\\xE44\\xD3\\xFE\\xB3Un\\x98+\\xEFy\\x8B\\xBC|\\xC3\\xD5l\\xE3\\xD5l\\xE3\\xC9\\v\\xBE\\xCD\\\"2\\u0082r\\xCB\\xF4v\\nH\\u0003\\u0000\\xE4\\xA7Bh8y\\xD1\\xEF\\xD09\\u007F\\xC7\\xFBч\\ef\\xB7=\\xA7\\u0003\\xAF\\xE7e\\xD6\\r\\xC9R\\xFE.\\nH\\u0003\\u0000\\xE4\\xE7蹁\\xE44\\u0013\\x89\\xE1V\\x87\\xCE\\xF9'\\xA7\\x99\\x94\\xB7\\xA7\\x804\\u0000@~\\u000E\\x85\\x86\\xBC|\\xB7\\xFDg\\xAB\\xA85\\u0014\\x9DI<\\xA3\\xF4\\xFB\\u001A\\nH\\u0003\\u00004\\xC1\\xA1\\xD0p&է2_\\xC7`_^\\xBE\\xDB\\xD9+>JZR@\\u001A\\u0000\\xA0\\t\\u000E\\xFD\\x93\\x9F\\x92^\\x863\\xF0\\x95\\x90\\xC2\\xF5CY'\\u0000\\x80&8\\u0014\\u001A\\xB2rU\\xFBŦ.)\\\\?\\u0014\\x90\\u0006\\u0000h\\x82\\x83\\xD74T\\xBAz\\fe\\xA2p\\xFDp\\xA6\\u0001\\u0000\\xA0\\t\\\\\\x91\\xE0b\\u0014\\x90\\u0006\\u0000h\\u0005\\xA1\\xC1\\xC5( \\r\\u0000\\xD0\\nB\\x83\\x8BQ@\\u001A\\u0000\\xA0\\u0015\\x84\\u0006\\u0017\\xA3\\x804\\u0000@+\\b\\r.F\\u0001i\\u0000\\x80V\\u0010\\u001A\\\\\\x8C\\u0002\\xD2\\u0000\\u0000\\xAD 4\\xB8\\u0012\\u0005\\xA4\\u0001\\u0000\\u001ABhp%\\nH\\u0003\\u00004\\x84\\xD0\\xE0J\\x94u\\u0002\\u0000h\\b\\xA1A\\u0005\\xA9\\u0017N\\xC5/\\x9B\\x94\\x99q\\xA9\\xACo\\xA4\\x804\\u0000@C\\b\\r*\\xB8|\\xE1\\xD4\\xDA\\xE5\\xFFɼZ\\xE6\\xD0\\xC0\\x99\\u0006\\u0000\\x80\\x86\\u0010\\u001A\\\\\\x86\\u0002\\xD2\\u0000\\u0000m\\xD1\\xD2m*/\\xA7\\x9C\\\\\\xB5\\xE0\\x95+\\x97\\x92\\f\\u0006\\x83\\xA7\\x97O\\xAB\\xBB\\u001F\\xEF\\xFA\\xC8\\xF0-kg\\xAF\\x987T\\b\\xD1\\xEF\\xA5yW.'%l\\x98\\x9Fu-\\xB5u\\xC7ރG\\xAF\\u0010B\\u001Cܻ1~\\xD9Ĭk\\xA9FO!m\\xEF\\xE9ס\\xEB\\u0000[\\xFD\\u00176\\xCE7\\xE7\\xD5o\\u001A\\u001D7\\xE0\\xAD*A5\\x84\\u0010\\xF1\\xCB&m]\\xF7Qֵԉ\\xB3\\xF7\\x87E6=\\xB0{\\xFD\\xE2Y\\xCFf\\xA4\\xA5\\f|eI\\xDB{\\xFA}\\xBBjڦ\\xAF\\xDF\\u0015B\\xBC7\\xEE^7w\\x8F\\xA0\\xE0\\x8813\\u007FV\\xF2q\\xAC\\u0005\\xA4\\e4h@\\u0001i\\u0000\\x80&h\\xE9L\\xC3\\xDCiqᵛ\\x8F\\xFF\\xF0\\xF7q\\u001F\\xFCvo\\xF7W\\xD6,\\u0019'\\x84hߵ\\xFF\\xA49\\a\\x85\\u0010\\xDB6\\xCC\\xF3\\xF4\\xF4~\\xF5\\xCD-\\x9Dc^\\xB4\\xB6Oܵv֤\\x98.\\xB1æ\\xCC?1aVb\\x9D\\xA8;W\\xCC}\\xD9V\\xE7\\xD6\\xC6]\\u001F\\u0019>e\\xFE\\x89\\xC9\\xF3\\x8E]\\xCFΘ\\xF9\\xEF\\xE8\\xDC\\xEB\\x99B\\x88\\xD8''=;jya˦\\xADc&\\xCCJ,|ح\\xD7X\\xEB\\xAB#\\xA6l\\x9A\\xB1\\xE8\\x9C\\xC2\\xC4 ( \\r\\u0000\\xD0\\u001Ä́\\x86\\xBC\\e\\xB9\\xE7N\\xEF\\v\\u000E\\xA9c}زC\\xDC\\xFD=F\\n!L\\xDE\\xFEA\\xD5j\\t!\\u0002\\x83#bz\\x8F\\v\\x8Bl\\xFAP\\x9F\\tw\\xDD7P\\b\\xB1z\\xC1\\xC8\\xDAQm\\xEE\\xEC\\xF4\\xA4\\u0010\\xC2`0<\\xF4\\xC4xo\\x9F*\\xB6\\xFA_\\xBD`d\\x9D\\xA8;\\xDBD\\xF7\\u0011Bx\\u0018\\xBDz\\u000E\\x9Cy)\\xE5ď\\xEB\\xE6T\\xDC'\\xA2\\x804\\u0000@[4\\u0013\\u001A\\x8C\\x9E\\xA6\\xDA\\xF5۬\\x987t\\xF5\\u0091gO\\xFD&\\x84x\\xB8\\xCFĢ\\r\\xEA5\\xBE\\xCB\\xFAG@Ր\\xC6-\\xEEOO=w\\xF1\\xFC\\xD1\\xDA\\xF5\\xDB\\u0014\\xE9\\xC1{\\xC6g\\xE7K\\xEC\\xDC\\xDA82\\xEAf\\xE3\\x90\\xF0(o\\xDF*\\x87\\xF7mR\\xFF\\x93\\xFC\\x8D\\u0002\\xD2\\u0000\\u0000m\\xD1\\xD25\\r\\xC3'\\u007F\\xB7q\\xF5\\x8C\\u001D\\x9B\\u0017}\\xFF\\xD5;!\\xE1\\r\\xBA?=\\xB5e\\x87\\xB8\\xC2W}\\xFC\\u0002\\x8B6κ\\x96*\\x84\\xF0\\xF5\\vR\\xD2\\xF3_\\x8D}\\xFFу\\xAF_\\x90\\xF5yG\\x84\\x85\\x85\\xD9o\\xC0O'\\u0000\\u0000Z\\xA1\\x993\\rB\\b\\u001Fߪ\\x8F\\xF5\\x9F6cѹ\\xA1\\u0013\\xD7y\\x99|\\xE7O\\u007F<9逭\\xC6~\\u0001\\xC1B\\x88\\xEC\\xECt%=\\xFF\\xD58+\\xAD\\xE8\\x93\\xD9Yi\\xD6\\xE7\\x85\\u0010nn\\xEEB\\x88\\x82\\x82\\u0002\\xEB\\xC3?s\\xB3\\xCA\\xF5\\t\\x8A۷o_hh\\xA8*]\\u0001\\u0000P\\xD14\\u0013\\u001Ar\\xB2\\xAF~\\xF1\\xC9\\xFF\\t!\\xDC\\xDCܛ\\xB6\\x8Eyv\\xD4\\xF2\\x82\\u0002K\\u{990F6}\\xDA\\a\\u0006\\xD7\\f\\to\\x90t|w\\xE13\\xB9\\xD73\\xA7\\x8Fl\\x97\\x9D\\x99f\\xAB\\xF1\\u001F\\xC7w\\u0015>s)\\xF9\\xF8\\xF5\\xEC\\x8CFw\\xDCk}\\xE8_\\xB5\\xBA\\xF8\\xFB\\x84\\x84\\u0010\\\"\\xE5̡\\xA2ow\\xF70\\x8A\\xBF#ŉC?ef\\\\.|)ٮjժ\\x95yE\\u0000\\u0000\\xE0\\\"\\x9A\\t\\r\\xE6\\e\\xB9[\\xD7\\xCF9yx\\xBB\\xF5\\xE1\\xF1\\x83\\xDB<\\xBD|\\xEA4hg\\xE7-=\\a\\xCD\\xFC\\xE3\\xD8\\xCE\\xDD\\t+\\x85\\u0010\\u0016K\\xFE\\x9A%\\xE3n\\xAB\\u0016\\xE9\\xEB_\\xF2\\u0017\\u0016=\\a\\xCD\\xFC\\xE3خ\\x9D?.\\u0013B\\x98\\xCD7V/\\u001CU\\xBDF\\xBDN1/X_\\xAD\\u001EV? 0\\xF4\\x97-K\\n\\n\\n\\xAEgg\\xECؼ\\xA8\\xE8{\\xADWb\\xA6_9g\\xCE\\xFBs\\xEE\\x9B=r\\xB2J\\xC8%\\u0000\\u0000h\\x9D!99\\xB9\\xDCo\\x8E\\xDFSCš\\xD8g\\xCE\\xFBs\\xC3\\xEA\\xE9\\xBF\\xFF\\xB2F\\x88\\u0002\\x8B%\\xDF\\xC7/\\xF0\\x91\\xBEoD5픸3~\\xF9ܗ\\xD3.\\x9F\\xF1\\xF5\\xBF\\xCD\\xE4\\xED7aV\\xA2\\xC9'\\xA0\\xF0]\\a\\xF7l\\xF8f\\xD9\\xC4\\xEC\\xCC+\\x9E^>\\xF5\\x9BD\\xF7\\u00180\\xC3\\xCB\\xE4kk\\u0011\\x85\\x8D\\xCDy7\\xA2\\x9AF\\xC7=\\xF3\\xB6\\xB5N\\x83Ց\\xC4\\u001FV\\xCE\\e\\x96u-5\\xACV\\x93G\\x9F\\x9E:cd{\\xBF\\x80ভc\\x9E\\u0019\\xF1\\x99\\u0010\\xE2\\u007F\\x8B\\xC6\\xECNX\\xE9\\xE9\\xE5ۢC\\x8FG\\xFBM.|Wl\\xAB\\x94\\x8AY\\u001F\\u0000\\u00008\\x9BfB\\x83F\\u0011\\u001A\\u0000\\u0000\\xBA\\xA1\\x99\\xAF'\\u0000\\u0000\\x80k\\u0011\\u001A\\u0000\\u0000\\x80\\\"\\x84\\u0006\\u0000\\u0000\\xA0\\b\\xA1\\u0001\\u0000\\u0000(Bh\\u0000\\u0000\\u0000\\x8A\\u0010\\u001A\\u0000\\u0000\\x80\\\"\\x84\\u0006\\u0000\\u0000\\xA0\\b\\xA1\\u0001\\u0000\\u0000(Bh\\u0000\\u0000\\u0000\\x8A\\u0010\\u001A\\u0000\\u0000\\x80\\\"\\x84\\u0006\\u0000\\u0000\\xA0\\x88C\\xA1\\xC1\\xE8^\\xA0\\xD68t\\x89\\xF5\\u0003\\u0000\\xD0\\u0013\\x87B\\x83\\x9Fɬ\\xD68t\\x89\\xF5\\u0003\\u0000\\xD0\\u0013\\x87BC\\x8D\\xC0\\\\\\xB5ơK\\xAC\\u001F\\u0000\\x80\\x9E8\\u0014\\u001AP\\xB01\\xF5\\u0000\\u0000\\u0001BIDATj\\u0005\\xE7xzX\\xD4\\u001A\\x8A\\xCExzX\\\"n\\xCBq\\xF5(\\u0000\\u0000P\\x8D\\x83\\xD74X\\x9AEd\\xA85\\u0014\\x9Di\\u0016\\x91A\\xA2\\u0002\\u0000艣\\xBF\\x9E\\b\\v\\xCAm\\\\3S\\x95\\xA1\\xE8I㚙aA|7\\u0001\\u0000\\xD0\\u0015\\u000Fǻ\\xA8\\e\\x92\\xE5m4\\xEF?[写\\u001Fp\\nO\\u000FK\\xB3\\x88\\f\\u0012\\u0003\\u0000@\\u007F\\f\\xC9\\xC9ɪt\\x94\\x97ꓒn\\xCA\\xCE\\xF5\\xC8\\xCB7\\xA8ҧ\\x86\\u0018\\xDD\\v|M\\xE6\\u001A\\x81\\xB9\\x91\\xC19Fw\\xBE\\x95\\u0000\\u0000\\xE8\\x90j\\xA1\\u0001\\u0000\\u0000\\xE8\\e_(\\u0000\\u0000\\u0000E\\b\\r\\u0000\\u0000@\\u0011B\\u0003\\u0000\\u0000P\\x84\\xD0\\u0000\\u0000\\u0000\\u0014!4\\u0000\\u0000\\u0000E\\b\\r\\u0000\\u0000@\\u0011B\\u0003\\u0000\\u0000P\\x84\\xD0\\u0000\\u0000\\u0000\\u0014!4\\u0000\\u0000\\u0000E\\b\\r\\u0000\\u0000@\\u0011B\\u0003\\u0000\\u0000P\\x84\\xD0\\u0000\\u0000\\u0000\\u0014!4\\u0000\\u0000\\u0000E\\b\\r\\u0000\\u0000@\\u0011B\\u0003\\u0000\\u0000P\\x84\\xD0\\u0000\\u0000\\u0000\\u0014!4\\u0000\\u0000\\u0000E\\b\\r\\u0000\\u0000@\\u0011B\\u0003\\u0000\\u0000P\\x84\\xD0\\u0000\\u0000\\u0000\\u0014!4\\u0000\\u0000\\u0000E\\b\\r\\u0000\\u0000@\\u0011B\\u0003\\u0000\\u0000P\\x84\\xD0\\u0000\\u0000\\u0000\\u0014!4\\u0000\\u0000\\u0000E\\b\\r\\u0000\\u0000@\\u0011B\\u0003\\u0000\\u0000P\\x84\\xD0\\u0000\\u0000\\u0000\\u0014!4\\u0000\\u0000\\u0000E\\xFE\\u001Fȃ\\xAF\\xEB\\u0016h4m\\u0000\\u0000\\u0000\\u0000IEND\\xAEB`\\x82\""
      ]
     },
     "metadata": {},
     "output_type": "display_data"
    },
    {
     "data": {
      "text/plain": [
       "#<CZTop::Socket::PUB:0x55da1c3cbf90 last_endpoint=\"tcp://127.0.0.1:60053\">"
      ]
     },
     "execution_count": 6,
     "metadata": {},
     "output_type": "execute_result"
    }
   ],
   "source": [
    "bd = IMulvery::BlockDiagram.from_observable(result)\n",
    "IRuby.display(bd.build_map, mime: \"image/png\")"
   ]
  },
  {
   "cell_type": "markdown",
   "metadata": {},
   "source": [
    "## optimizerを用いたチューニング\n",
    "\n",
    "Mulveryの新機能である `optimizer` を用いてハードウェアのチューニングを行います．  \n",
    "といってもこのサンプルはシンプルすぎてできることはありません・・・"
   ]
  },
  {
   "cell_type": "code",
   "execution_count": 7,
   "metadata": {},
   "outputs": [],
   "source": [
    "# result.optimize(Mulvery::Optimizers::pipeline)"
   ]
  }
 ],
 "metadata": {
  "kernelspec": {
   "display_name": "Ruby 2.5.1",
   "language": "ruby",
   "name": "ruby"
  },
  "language_info": {
   "file_extension": ".rb",
   "mimetype": "application/x-ruby",
   "name": "ruby",
   "version": "2.5.1"
  }
 },
 "nbformat": 4,
 "nbformat_minor": 2
}
