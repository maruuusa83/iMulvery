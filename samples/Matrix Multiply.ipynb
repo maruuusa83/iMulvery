{
 "cells": [
  {
   "cell_type": "markdown",
   "metadata": {},
   "source": [
    "# ベクトルのスカラ積（内積）のサンプル\n",
    "\n",
    "簡単な例（ベクトルのスカラ積）を通してiMulveryを使った次のような開発の流れを体験するためのサンプルです．\n",
    "\n",
    " 1. Observableの定義\n",
    " 1. Mulveryを用いた処理の記述\n",
    " 1. `sample_input` 機能を用いた動作レベル検証\n",
    " 1. `display` 機能を用いたハードウェアの確認\n",
    " 1. `optimizer` 機能を用いたハードウェアの最適化"
   ]
  },
  {
   "cell_type": "markdown",
   "metadata": {},
   "source": [
    "## iMulveryを利用する準備\n",
    "\n",
    "iMulveryは，単に `require` するだけで利用できます．\n",
    "MulveryもiMulveryもRubyやjupyter-notebookには手を加えていないので，既存のirbやjupyter-notebookですぐに利用できます．"
   ]
  },
  {
   "cell_type": "code",
   "execution_count": 1,
   "metadata": {},
   "outputs": [
    {
     "data": {
      "text/plain": [
       "true"
      ]
     },
     "execution_count": 1,
     "metadata": {},
     "output_type": "execute_result"
    }
   ],
   "source": [
    "require '../lib/imulvery'"
   ]
  },
  {
   "cell_type": "markdown",
   "metadata": {},
   "source": [
    "## Observableの定義\n",
    "\n",
    "データ源となるようなObservableを定義します．  \n",
    "メモリのデータを利用する `from_array` やInputポートを利用する `from_in` などのジェネレータが用意されています．"
   ]
  },
  {
   "cell_type": "code",
   "execution_count": 2,
   "metadata": {},
   "outputs": [
    {
     "data": {
      "text/plain": [
       "#<Mulvery::InputBus:0x00005613f7fcc630 @data_path=[#<Mulvery::Observable::ObservableNode:0x00005613f7fccc48 @type=:source, @info={:type=>:from_in}, @reg=0>]>"
      ]
     },
     "execution_count": 2,
     "metadata": {},
     "output_type": "execute_result"
    }
   ],
   "source": [
    "ob_1 = Mulvery::Observable.from_input\n",
    "ob_2 = Mulvery::Observable.from_input"
   ]
  },
  {
   "cell_type": "markdown",
   "metadata": {},
   "source": [
    "## 処理の記述\n",
    "\n",
    "Mulveryの記法（Rx）に基づいて処理を記述していきます．  \n",
    "このコードでは，結果の計算が終わり次第（＝非同期に）変数 `actual` がその結果で更新されます．"
   ]
  },
  {
   "cell_type": "code",
   "execution_count": 3,
   "metadata": {},
   "outputs": [
    {
     "data": {
      "text/plain": [
       "#<Mulvery::InputBus:0x00005613f7fccf90 @data_path=[#<Mulvery::Observable::ObservableNode:0x00005613f7fcd008 @type=:source, @info={:type=>:from_in}, @reg=0>, #<Mulvery::Observable::ObservableNode:0x00005613f7f1c848 @type=:zip, @info={:observables=>[#<Mulvery::InputBus:0x00005613f7fcc630 @data_path=[#<Mulvery::Observable::ObservableNode:0x00005613f7fccc48 @type=:source, @info={:type=>:from_in}, @reg=0>]>]}, @reg=0>, #<Mulvery::Observable::ObservableNode:0x00005613f7f1c2d0 @type=:reduce, @info={:lambda_abs=>#<Proc:0x00005613f7f1c708@<main>:3>}, @reg=0>, #<Mulvery::Observable::ObservableNode:0x00005613f7f1c208 @type=:subscribe, @info={:lambda_abs=>#<Proc:0x00005613f7f1c2a8@<main>:6>}, @reg=0>]>"
      ]
     },
     "execution_count": 3,
     "metadata": {},
     "output_type": "execute_result"
    }
   ],
   "source": [
    "actual = 0\n",
    "result = ob_1\n",
    "  .zip(ob_2)\n",
    "  .reduce do |reg, d|\n",
    "    reg += d[0] * d[1]\n",
    "  end\n",
    "  .subscribe do |data|\n",
    "    actual = data\n",
    "  end"
   ]
  },
  {
   "cell_type": "markdown",
   "metadata": {},
   "source": [
    "## 動作レベル検証\n",
    "\n",
    "先程定義した `result` observableが正しい結果を出力するか検証します．  \n",
    "`from_in` で生成したObservableはサンプル入力をサポートしているので，これを利用します．\n",
    "\n",
    "まずはRubyを使って普通に計算してみます．"
   ]
  },
  {
   "cell_type": "code",
   "execution_count": 4,
   "metadata": {},
   "outputs": [
    {
     "name": "stdout",
     "output_type": "stream",
     "text": [
      "Expected: 70\n",
      "Actual: 0"
     ]
    }
   ],
   "source": [
    "array_1 = [1, 2, 3, 4]\n",
    "array_2 = [5, 6, 7, 8]\n",
    "\n",
    "expected = array_1\n",
    "  .zip(array_2)\n",
    "  .reduce(0) do |reg, d|\n",
    "    reg += d[0] * d[1]\n",
    "  end\n",
    "\n",
    "print \"Expected: #{expected}\\n\"\n",
    "print \"Actual: #{actual}\" # まだ計算結果はアップデートされていない"
   ]
  },
  {
   "cell_type": "markdown",
   "metadata": {},
   "source": [
    "今度はObservablesにサンプルを入力して計算させてみます．"
   ]
  },
  {
   "cell_type": "code",
   "execution_count": 8,
   "metadata": {},
   "outputs": [
    {
     "name": "stdout",
     "output_type": "stream",
     "text": [
      "Expected: 70\n",
      "Actual: 70\n"
     ]
    }
   ],
   "source": [
    "ob_1.sample_input_from_array(array_1)\n",
    "ob_2.sample_input_from_array(array_2)\n",
    "ob_1.execute # ここでActualがアップデートされる\n",
    "\n",
    "print \"Expected: #{expected}\\n\"\n",
    "print \"Actual: #{actual}\\n\""
   ]
  },
  {
   "cell_type": "markdown",
   "metadata": {},
   "source": [
    "## displayを用いたハードの確認\n",
    "\n",
    "iMulveryの特色である `display` の機能を用いて生成されるハードウェアをビジュアライズします．  \n",
    "最適化を施さない状態では，Mulveryの記述が素直に表示されます．"
   ]
  },
  {
   "cell_type": "code",
   "execution_count": 6,
   "metadata": {},
   "outputs": [
    {
     "data": {
      "image/png": "[encoded data removed]",
      "text/plain": [
       "\"\\x89PNG\\r\\n\\u001A\\n\\u0000\\u0000\\u0000\\rIHDR\\u0000\\u0000\\u0002\\xBC\\u0000\\u0000\\u0000\\xB9\\b\\u0002\\u0000\\u0000\\u0000E\\x8A{\\x8E\\u0000\\u0000\\u0000\\u0006bKGD\\u0000\\xFF\\u0000\\xFF\\u0000\\xFF\\xA0\\xBD\\xA7\\x93\\u0000\\u0000\\e;IDATx\\x9C\\xED\\xDDy|\\u0013e\\xFE\\xC0\\xF1'm\\x92\\xA67-\\x85ҋ\\x82\\xA5\\u00059\\xDC徴\\\"\\xE0\\u0001Z`)\\xA8\\b\\b\\x82x\\xAD\\xC0\\x82\\u001C\\xCB\\xCA\\xD1\\u0015\\u0010P\\xD4U\\x94\\xA5\\xB8(\\nr,\\xF0[\\xB1\\x80\\xA0 \\b\\x8A\\xCA)\\xE5\\u0010\\xB9\\x8F\\x92r\\xF4\\xA0G\\xDAҦ\\xCD\\xEF\\x8F`(\\xA5\\x99Nɴ\\xB9>\\xEF\\u0017\\u007F$\\x93'\\xCF<\\xF3\\xCCw\\u001E\\xBE\\x9D\\x99̣\\xD2\\xEB\\xF5\\u0002\\u0000\\u0000\\xA0*\\u001E\\xF6n\\u0000\\u0000\\u0000p\\u000E$\\r\\u0000\\u0000@\\u0016\\x92\\u0006\\u0000\\u0000 \\vI\\u0003\\u0000\\u0000\\x90\\x85\\xA4\\u0001\\u0000\\u0000\\xC8B\\xD2\\u0000\\u0000\\u0000d!i\\u0000\\u0000\\u0000\\xB2\\x904\\u0000\\u0000\\u0000YH\\u001A\\u0000\\u0000\\x80,j\\xA5**)\\xF58\\x9Fᓞ\\xAD3\\u0014\\xA9KJUJU\\xEB,4\\x9E&_\\x9D1,\\xA8(:\\xA4@\\xE3Yf\\xEF\\xE6T\\x83\\x9B\\uFE1AF`\\xA0\\u0002B\\u0002\\u00158WH\\xA8\\u0014y\\x8C\\xB4>Kw\\xF8b`\\xB1\\x91\\xF3\\u0016B\\xAB.k\\u0015\\x95\\u0013\\u001E\\\\d\\xEF\\x86\\xC8\\u008E\\xAB5\\u0004\\u0006* $P\\x81S\\x84\\x84\\u0002I\\xC3\\xE9+~\\xC7\\xD2\\xFC\\u0015i\\x8D\\xCBh\\u001E\\x99\\u0017\\u0013\\x9Ao\\xEFVT\\x81\\u001DW\\xFB\\b\\fT@H\\xA0\\u0002\\a\\u000F\\t[\\xD3F}\\x96\\x8E`\\xBAӱ4\\u007F}\\x96\\xCEޭ\\x90\\u008E\\xB3\\v\\u0002\\u0003\\u0015\\u0010\\u0012\\xA8\\xC0\\xC1C¦\\xA4\\xA1\\xA4\\xD4\\xE3\\xF0\\xC5@\\xA5\\x9A\\xE2bR/8\\xEE\\xA9<v\\x9C\\u001D\\u0011\\u0018\\xA8\\x80\\x90@\\u0005\\x8E\\u001C\\u001265\\xEBB\\x86\\x8F\\xC3n\\x98ݕ\\x94z\\\\\\xCC\\xF4\\xB1w+*ǎ\\xB3#\\u0002\\u0003\\u0015\\u0010\\u0012\\xA8\\xC0\\x91C¦hH\\xCFv\\xDCS(\\x8E\\xC0a\\xFB\\xC7a\\e\\xE6&\\u001C\\xB6\\xFF\\u001D\\xB6a.\\xCFa{\\xDEa\\e\\xE6\\xF2\\u001C\\xB6\\xE7mJ\\u001A\\xF2\\x8B\\u0014\\xFBŦKr\\xD8\\xFEq؆\\xB9\\t\\x87\\xED\\u007F\\x87m\\x98\\xCBs؞w؆\\xB9<\\x87\\xEDy\\e\\xEFi৺R\\u001C\\xB6\\u007F\\u001C\\xB6an\\xC2a\\xFB\\xDFa\\e\\xE6\\xF2\\u001C\\xB6\\xE7\\u001D\\xB6a.\\xCFa{\\x9E\\x8BU\\u0000\\u0000@\\u0016\\x92\\u0006\\u0000\\u0000 \\vI\\u0003\\u0000\\u0000\\x90\\x85\\xA4\\u0001\\u0000\\u0000\\xC8B\\xD2\\u0000\\u0000\\u0000d!i\\u0000\\u0000\\u0000\\xB2\\x904\\u0000\\u0000\\u0000YH\\u001A\\u0000\\u0000\\x80,$\\r\\xB8;]\\xAB\\xA7\\x8C\\x88~1A\\xB5\\xF3\\xEBE\\xF6n\\v \\x85Xu\\a[\\xD6Λ<,\\xE2\\xC5\\u0004\\xD5\\xD1\\xFD\\x9B\\xDDa\\xBD\\x8E\\x8F\\xA4A\\u0001\\u0019\\x97Ϥ\\xACH\\xCA˹j\\xEF\\x86(\\xA0\\xDD\\u0003O\\xBD\\xB1\\xE8\\xF7\\xF2KN\\u001E\\xD99nP\\xB0\\xFE\\xFC\\u0011\\ek.\\xC8\\xCF\\xFE\\xFC\\x83\\x91\\xD3_j:\\xFD\\xA5f\\u001F\\xBE\\xF1ĵ\\xF4\\xD36V\\x88\\x9A\\xA6Ԯ\\xAF!wƪ\\xE3s\\xF6\\xB1\\xA2\\xF6C\\xE2\\xD1\\u0001\\x93\\xC7\\xCD\\xDEV;\\xEB*\\xBFu\\xB5\\xB9^\\xE7BҠ\\x80k\\x97\\xCFlX\\xF9ϼ\\xEB\\xCE:\\u0010H\\xF3\\xF2\\xF6\\xAB[?Z\\xA3\\xF5\\xB6\\xA5\\u0012\\x93\\xA9\\xEC\\xC37\\x9EȻ~u\\xFA\\x87\\x87\\xFF\\xF9\\xEF\\xDFB#\\x9A\\xBE\\xF3\\x8Fn\\x86\\xBCL\\xA5\\u001A\\x89\\x9A\\xA0ȮGy\\xCE>V\\xB8vH\\xB8\\xF6\\xD6)\\x85\\xA4\\u0001Uh\\u0018\\xD3f\\xEA\\xFB\\a\\xEB\\x85\\xC5\\xD8RɁ\\u001Fם\\xFEmw∷\\xD5j\\xADJ\\xA5\\xEA;dfA\\xFE\\xF5o\\xBF|W\\xA9F\\xA2&(\\xB2\\xEB\\xE1J\\\\;$\\\\{\\xEB\\x94\\xE2\\xA0\\xF3hU\\xEAZ\\xFA\\xE95K\\xC6g^=\\xAFR\\xA9\\xB4^>m\\xEF\\u007F\\xB2G\\x9F\\xB1\\xDB7|\\xB8*y\\xB4\\u0010b\\xC8_\\x933\\xAF\\x9Dߵyq~nF\\xBB\\a\\x9E\\u001A5i\\x95\\u0010\\xE2\\xE8\\x81-)+f\\xE4\\xE7fh\\xB4\\xDE\\u0001uB;>4\\xA4K\\x8F\\xE1\\xD6\\xEA\\xB7\\u0014.5\\x96Ķ\\x8CO\\u001C\\xFEV`p\\x98\\u0010\\\"eEҎ\\x8D\\u001F\\xE5\\xE7f\\xCC\\xF8\\xF0pxt\\xCB#\\xFB6}\\xBE\\xE0\\xF9\\x9C\\xAC\\xF4\\u0011\\xE3\\x97u|h\\xC8\\xD7k\\xE6l\\xFD\\xF2]!\\xC4{S{zx\\xAA\\x83C\\xA2&\\xCF\\xFF\\xA9v:DA;6~\\xB4e\\xDD[\\x86\\xBC̆1m\\x9Ez\\xE1\\u0003\\xCB\\xF2\\xDDۖ\\xAE\\xFF\\xFC\\xF5\\xEBY\\xFA\\xA1\\xA3?\\xBE\\xFF\\x91\\xE7\\xCB\\xF7\\xF6\\xD5\\xF4S\\xBB\\xB6,\\xF6\\xD2\\xF9u{\\xFC\\xAF\\xBD\\u0006N\\x91\\xAE\\xFF\\xC0\\xEEu\\u0001A\\r\\u001AD63\\xBF\\xD5z\\xF9\\xDCӬӁ\\u001F\\xD7\\xF5\\e:\\xBB\\xE66\\n\\xB6Pj\\xD7[#}\\xE4\\xA6\\xEEݰaER\\xA1!\\xA7\\xB4\\xB4\\xA4y\\x9BG\\u0013\\x87\\xBF\\xE5\\xED\\eh\\xFE\\xA2\\xB5X\\x95>N\\xCDe$\\u0006\\u0004\\x895\\xDE\\xC9=\\xC7\\n\\xDBC\\xA2\\xD21\\\\Ύ\\u0013B\\u0014\\u0015\\xE6}\\xFA{R\\x84J\\xD5\\xF1\\xA1!\\u0003\\x9E{[\\xAD\\xF1\\xB2V\\xA7\\xF9+\\x95\\xEEnk\\x81ע\\xEDc差\\xCA\\xF5\\x8Ajƌ\\xCBp\\xA63\\r\\x8B\\xE6$F4\\xBAo\\xDA\\a\\xBFN}\\xFF`\\xCF~\\xE3\\xD7/\\x9B*\\x84\\xE8\\xDCcX\\xD2£B\\x88\\x9D\\x9B\\x93\\xB5Z\\xEF\\xD7\\xDE\\xDCޭ\\xF7+\\xE6\\xF2\\xA9{7,H\\xEA\\xDD=a̬ŧ\\xA6/Hm\\u001C\\xD7aբW\\xADUn.ܣ\\xCF\\xD8Y\\x8BO\\xCDL>Qhș\\xFF\\xF7\\xF8\\xA2\\xC2<!D\\xC23I\\xCFO\\\\i)ٲ]\\xEF\\xE9\\vR-o{\\r\\x9Cb\\xFEtܬ\\xAD\\xF3\\x96\\xA69\\xD7(`\\xB6w\\xE7ʕ\\x8B^\\xED\\xD9o\\xFC;_d\\f\\u001D\\xFD\\x9F\\xF5˧Z>\\xEA\\xD2c\\xF8\\eɷ.\\e[z{\\xD77\\u001F\\a\\x85DN\\x9C\\xBB\\xABc\\xB7\\xC1_~\\xFE\\x8F3ǫ\\xD8\\xEAK\\xE7R\\xEB5\\xB8\\xA7\\xFC\\x92\\x90\\xD0\\xC6W\\xF5'K\\x8A\\x8B\\u0014\\xDD\\u0014(F\\xA9]o\\x8Dđ{\\xE8\\x97\\xF5\\vg\\xF6\\xE9\\x9E0f\\xE6\\xE2\\x93\\xD3\\u0017\\xA4\\xA6\\x9D=\\xB4pV_\\x93\\xC9$$cU\\xFA8\\u0015\\x92\\u0003\\x82\\xC4\\u001A\\xEF\\xE4\\xB6c\\x85\\xED!Q\\xE9\\u0018^\\xE5\\x8E3۸zfǇ\\x86\\xBC\\xF3ŵ\\u0017&\\xAF\\xDE\\xFD\\xED\\xA7k\\x96\\xBC&Q\\xA7\\xB0\\xBE\\xBB\\xAD\\u0005^\\x85\\xAD\\xABr\\xBDՊ\\u0019W\\xE24ICIqQ\\xDA\\xD9C!\\xA1\\x8D\\xCDo\\xDBtI|\\xA4\\xFF\\u0004!\\x84\\xCE\\xDB?\\xB8^C!DPHT罹\\x86G\\xB7||\\xD0\\xF4\\xAE\\u000F\\x8F\\u0010B\\xAC]2\\xA1Q\\\\\\xFB\\u000E\\u000F>#\\x84P\\xA9T\\x8F?=\\xCD\\xDB\\xC7j\\u001A\\xB8vɄ\\xC6q\\u001D\\xDA\\xC7\\u000F\\u0012B\\xA85^\\u0003F̿\\x9A~\\xEA\\xFB\\x8D\\vka\\xD3\\xEC.eERtl\\xBB\\u001E}\\xC6j\\xB4\\xBAЈ\\xB8\\a{\\xBDl\\xAD\\xA4\\xA5\\xB7\\xEB5\\x88\\xE9\\x9E0&\\xA2Q\\xAB~Cgk\\xB4\\xBA\\xDFS\\xB7K\\xAF\\\"?7C\\xE7\\u0013p[U>\\u0001&SYA~\\xB6\\\"\\x9B\\x80\\x9Av\\u05FB\\xBE\\xCA\\n\\xEF<r\\xD7}:)\\xEA\\x9E֝\\xBA?+\\x84\\xD0\\xF9\\u0004$\\fJ:q\\xE4\\xFBㇶ\\x89\\xEA\\xC4\\xEA\\x9D$\\u0006\\u0004\\x895VZ\\x8Fێ\\u0015\\xE5U7$\\xAC\\x8D\\xE12\\xB5h\\xFDh\\xF3֏xx\\xAA\\xEF\\xFD\\xF3\\xC3\\u000F<:jז\\xC5׳\\xF4\\u0012uZ\\xDB\\xDD\\u0012\\x81'\\u007F\\xBD\\xA2\\x9A1\\xE3J\\x9C&i\\xD0hu\\x8DbۯJ\\u001E\\xBD\\xF6\\x93\\t\\u0017\\xCF\\u001C\\u0014B<1hF\\xF9\\u0002M\\x9Aw5\\xBF\\b\\xA8\\u0013ڼ\\xF5#\\xD9\\u0019iW.\\xFD\\xDE(\\xB6}\\xB9\\u001A\\xBC\\xE7}v\\xA9\\xD2\\xCAͅ\\xA3\\xE3n\\u0015\\u000E\\x8D\\x88\\xF3\\xF6\\r\\xFC\\xED\\xD0V\\xE5\\xB7\\xC4\\xC1\\u0018\\xF2\\xB2\\xAE\\\\:qO\\xB3Ζ%\\xD1M\\xDAV\\xF9-K\\xC7zx\\xAA\\u0003\\xEA4Ƚ~\\xA5\\xBA\\xEBu\\x87\\x94\\xDC%پ\\xEB+\\xA8\\xEC\\xC8=\\u0011so\\u0017K\\x81\\xA8\\x98\\xD6B\\x88ㇶ\\xDD]\\xAC\\x9AI\\f\\b\\u0012k\\xB4V\\x8F{\\x8E\\u0015\\xD6\\xC8\\f\\x89*\\xC7piѱ\\xED,\\xAFc\\xEE\\xEDRj,\\xB9pj\\xBF\\xB5:\\xE5\\x8C\\xFF\\u0015\\u0002\\xAFZ\\xEB\\xADV̸\\u0018g\\xBA\\xA7a\\xEC\\xCCo\\xB6\\xAC\\x9D\\xB7{\\xDB\\xD2o\\xFF\\xF7NhD\\xD3~\\xCF\\xCEn\\xD3%\\xD1\\xF2\\xA9\\x8F_P\\xF9\\xC2\\xF9\\xB9\\u0019B\\b_\\xBF`95\\xDF,\\xEC{[\\r\\xBE~\\xC1\\xE6\\xE5\\xB6\\b\\u000F\\u000F\\x97\\xF8T\\xAF\\xD7\\xDBX\\xFFݭ79\\xE5\\xD6\\u007F\\xD89\\xD9\\xE9\\xE2\\xF6m\\xF7\\xF6\\xADSe\\xFD\\xE5/\\xDDyxz\\x96\\x95\\x95J\\x97\\xF7\\v\\b)*\\xC8+\\xBF\\xE4Fa\\x9EJ\\xE5Qa\\xAF\\xA1\\xA6\\xC9\\u000F\\fk\\xAA\\xBB\\xEB\\xABT\\xE9\\x91\\xFB\\xCB\\xF6\\xE5\\xA9{RʯԐ\\x9Fuw\\xB1Z\\xBE\\xDAJ\\a\\u0004\\x895Z\\xAD\\xC7-\\xC7\\nk䇄\\xF4\\u0018^\\xC5Zʝ'\\xF6\\xF1\\u000F\\u0016B\\x98\\xFF\\u2BF4N9\\xE3\\xBF\\xCC\\xC1\\xA7\\xD2\\xF5\\u0006\\x85D\\t\\xD91\\xE3b\\x9C)i\\xF0\\xF1\\xAD\\xF3\\x97as\\xFA\\u000E\\x9Du\\xEC\\xC0\\x96\\xF5˧-\\x9E\\xFB\\xE4\\xF4\\u0005\\x87£[VZ\\xD8/ D\\ba0\\xC8:\\xFB}\\xB3\\xF0\\xED\\xFBې\\x9Fe\\xB9\\x8D\\xD6\\xC3\\xC3S\\x94\\xFB\\xE3\\xF8FQ\\xFE\\xDDn\\x84\\xC3\\t\\f\\n\\u0013\\xB7o{\\xA1\\xE1\\xBA\\xE2k\\x89ht\\xDFɣ;\\xCB/ɸr\\xB6~x\\xACF\\xABS|]pj\\xE6\\x83\\xF1\\x81\\xC7^\\xE8?|^\\x85\\x8F\\fyYB2V%\\x8ES\\x89\\u0001Ab\\x8D\\xD6\\n\\xBB\\xE7Xa;kc\\xB8\\x9CN+,ȱ\\xBC6\\xE4f\\n!\\xEA\\u0004\\x87[\\xAB\\xB3Z㿴J\\xD7[\\xAD\\x98q1Nsy\\xA2\\xC0p\\xFD\\xBF\\u001F\\xFFM\\b\\xE1\\xE1\\xE1ٲ]\\xEF\\xE7'\\xAE4\\x99\\xCA\\xF4\\u0017\\x8EZ+\\u001F\\u0014\\u0012\\u0019\\u001A\\xD1\\xF4\\xFC\\xC9}\\x96%E\\x85ys't2\\x8F;\\x95\\u0016>wr\\xAFe\\xC9U\\xFD\\xC9BCν\\u007F\\xEAi~\\xEB_\\xA7\\xBE\\xF8\\xE3\\x8F\\f!D\\xFA\\x85c\\xE5\\xBF\\xEE\\xA9\\u0588?\\\"\\xFEԱ\\u001F\\xF2r\\xAEY>\\xD2K\\xAAv/\\xC8&\\u007F\\xBD\\xBE\\xFE\\xC1\\xA1\\u0011q\\xE5\\xEF]\\xBAp\\xE6\\xA0\\xE2\\xEDiݥ\\u007FNV\\xFA\\x95K7\\xEF3*).<\\xFB\\xFB/m\\xBA\\xCA\\xFD#\\u0003J\\xB1W@\\xCA\\u0017\\u0014\\u0012\\xD9 \\xB2Y\\xDA\\xD9C\\xE5\\u0017\\xAE_>\\xEDx\\xEAwUƪ\\xC4q*1 H\\xAC\\xB1\\xD2\\xE6\\xB9\\xEDXa#\\x891\\\\\\xBA\\xD3\\xCC.\\x9C>`y}\\xFA\\xF8nO\\xB5\\xA6a\\x93\\xB6\\xD6\\xEA\\xAC\\xD6\\xF8/\\xAD\\xD2\\xF5V+f\\\\\\x8C\\xD3$\\r\\xC6\\xE2\\xA2\\u001D\\x9B\\u0016\\x9E\\xFE\\xEDG\\xF3ۓGwj\\xBD|\\u001A7\\xED$\\xF1\\x95\\u0001#\\xE7\\x9F;\\xB1g߮\\xD5B\\x88\\xB2\\xB2\\xD2\\xF5˦֭\\u0017\\xED\\xEB_\\xF9\\t\\xAB\\u0001#\\xE7\\x9F;\\xB1w\\xCF\\xF7+\\x84\\u0010Fc\\xF1\\xDAO&\\xD6\\u000Fk\\xF2`Y\\xD5\\u000F\\x8F\\r\\bj\\xF0\\xF3\\xF6e&\\x93\\xA9А\\xB3{\\xDB\\xD2\\xF2\\xDF5\\xDFV\\x93\\x9D\\x99f,\\xB9\\xB1\\xE8\\xCD\\xFE\\u0005\\xCEv\\x86*ᙤ\\xF3\\xA7\\xF6oOYPj,ɸrv\\xF3\\x9A9\\x8A\\xAF\\xA2m\\xD7\\u00011\\xF7vY\\xF7\\xE9$\\xA3\\xB1\\xD8d2}\\xB5|\\xBA\\xCE'\\xE0\\xE1~\\xE3\\u0015_\\u0011\\\\\\xC0\\xC0\\x91\\xEF\\xFCvhہ\\xDD\\xEB\\xCCo\\xF7\\xFF\\xB0\\xE6\\xA7mK\\xA3\\u001A\\xFFYT\\u0015\\xAB\\xD2ǩĀ \\xB1\\xC6;\\xB9\\xF3Xa\\v\\x891\\\\\\xBA\\xD3\\xCC\\xF6|\\xBF\\xF2\\xC4\\xE1\\u001D&S\\xD9\\xF1\\xD4\\xEF~\\xFCf\\xC9\\u0003\\x8F\\xBEP'8\\\\\\xA2\\xCEj\\x8D\\xFF\\u0012*]\\xAF\\xA8f̸\\u0012\\x95-\\xB9d\\xCA\\xFE0\\u0005\\x9B\\\"\\xCDXrc\\xF3ڹ\\xBF\\xFE\\xBC^\\bSYY\\xA9\\x8F_P\\x9F\\xC1oĵ|0uO\\xCA\\xCAE\\xAFf]\\xBB\\xE0\\xEB_W\\xE7\\xED7}Aj\\xF9\\xBB\\xF4\\x8F\\xEE\\xDF\\xFCՊ\\u0019\\x86\\xBCL\\xAD\\x97Ol\\x8B\\xF8\\xFE\\xC3\\xE7y\\xE9|\\xAD\\xAD\\xC2R\\xD8XR\\u001C\\xD72>\\xF1\\xB9\\xB7Ϳ\\xBD6;\\x9E\\xFA\\xDD\\xEA\\xE41\\xF9\\xB9\\u0019\\xE1\\r[\\xF4}v\\xF6\\xBC\\t\\x9D\\xFD\\u0002BZ\\xB6\\xEB\\xFDܸτ\\u0010\\xFF\\xB7t\\xF2\\xBE]\\xAB\\xB5^\\xBE\\xAD\\xBB\\xF4\\xEF;d\\xA6\\xE5[\\tm\\xD3k\\xA6?lr\\xE7\\x8E۱iᖵ\\xF3\\fy\\x99\\r\\\"\\x9B%>\\xF7\\xF6\\xBB\\xAFw\\xF7\\xF5\\u000F\\x8Em\\u0011ߺ\\xF3_\\xD6/\\x9Ff\\xEE\\xDE{\\xFFܳc\\xB7\\xC1\\x96\\xDE\\xEE\\xD4}\\xE8c\\x89\\x93\\xE7N蔝yI\\xAB\\xF5n\\u0018\\xD3\\xE6\\xB59;$VZ\\x90\\x9F\\xBDf\\xC9k\\xA7\\x8E\\xFD\\xA0Ry\\xD4\\u000Fo\\xF2\\xE4\\xA8\\u007F\\xD5\\u000FkR\\x83\\e\\xE9\\xD8\\u001C?0~\\xFE\\xEEs\\xA5v}\\xA5\\xA4\\x8F\\xDCc\\a\\xBFI\\xF9bF\\xEE\\xF5+\\u07BEu\\xEA֏\\xEE?|nhDS\\xF3G\\xD6b\\xF5\\xE5\\xD7\\xFF'\\xAA:N%\\u0006\\u0004\\x895\\xDE\\xC9=\\xC7\\n\\eC\\xC2\\xDA\\u0018n\\xFE\\xD4Z\\xA7\\x85G5\\xFF.\\xE5\\x83\\xEBY\\xFAac?9\\xF8\\xD3\\xFFN\\u001EݩRyt\\xEC6x\\xC0\\x88\\xF9j\\x8D\\x97t\\x9D\\x95\\xEEnk\\x81Wa\\xEB\\u001A\\xDE\\xD3Zb\\xBD\\xE6\\xFA\\xAB\\u00153w\\xC11C\\xC2i\\x92\\u0006'\\xE5\\x98{\\x9D\\u001DW;2.\\x9F\\xF9\\xE9\\xBBϻ=\\xFE\\x8A\\u007F`\\xFD\\n\\u001F\\u0011\\u0018\\xA8\\x80\\x90@\\u0005\\x8E\\u0019\\u0012Nsy\\u0002\\u0010\\u000E?\\x85R\\u0005\\xCE>\\xD1\\u0000\\u0000T@\\xD2\\u0000g\\u008C2\\u0000`G\\xCE\\xF4\\x93K8\\xB8\\x8F\\xDFz\\xBA\\xD2\\xE5\\xE6\\xD9\\u0004\\u0014a\\x9EQF\\xA9\\xDAdrω\\u0006\\u0000\\xE0N$\\rP\\x8CR\\xC9An\\xF6\\xE5)#\\e\\x99\\u007F\\t-\\x84(5\\x96\\xE4\\xE5\\\\m\\xD3%\\xB1U\\x87'\\xCA\\xCF(\\xF3\\xF5\\x9A9\\xDF}\\xF5~\\xEE\\xF5+\\xC3\\xC6~\\x92\\xBA'\\xE5\\xB7C\\xDB<<<+\\xCC(c\\xBBԽ\\e\\u0016\\xCE\\xEC;r\\xC2\\xF2\\xF6\\xF1\\x83\\x8C%7\\x92\\xE7\\u000E\\x9C\\xFF\\xF7\\xF8\\xD7\\xDF?\\xA0\\xF3\\xF6Ox&\\xA9I\\xF3\\xFB\\xFF5\\xEDasI\\xF33\\xF3_\\e\\\\\\xCF\\xFC\\xB6\\xD7\\xC0)\\x8Db\\xDB\\xFFk\\xDA\\xC3\\xE3fm\\xB5\\xF64\\u0011\\u0000p.\\\\\\x9E\\x80#j\\xD2\\xFC\\xFEyK\\xD3\\xCC\\xFF\\xDAtMTk\\xBC\\u001E\\u001F4\\xBD\\u008C2\\xBD\\u0006N1ߡ\\xBD~\\xF9\\xB4\\xF8^/\\xBD\\xB7\\\"\\xB3\\u008C2\\x8A`\\xA2\\u0001\\u0000\\xB0 i\\x80\\xC3\\xD1\\xF9\\u0004\\xC4?\\xF6\\xA2\\xF9\\xF5\\x91}\\x9B\\xBE\\xDF\\xF4\\xEF~CgG6\\xBA\\xCFZ\\xF9\\u000E\\xF1\\x83*\\x9DQ\\xC6vL4\\u0000\\u0000\\xE5qy\\u0002\\u000EG\\xEB\\xE5\\xD3\\xF6\\xFE\\x81B\\x88\\xBC\\x9Ck\\x9F\\xBD?\\xA2\\xD9}\\xDD{J>\\u0006\\xAA\\u008C2[\\u05FFw\\xE1\\xD4\\xFE:\\u001D\\xA4\\x9E\\xA8/\\x93\\xEBM4\\u0000\\u0000\\xB6\\xE0L\\u0003\\u001Cײ\\u0005\\xA3\\x8C%7\\x86\\x8F\\xFBL\\xA5RI\\u0014\\xB36\\x93\\x8D\\xED\\xACM4`\\xB9߂\\x89\\u0006\\u0000\\xB8\\u0015\\xCE4\\xC0A\\xED\\xDA\\xF2\\xF1\\xA1_\\xD6??qePH\\xA4tIk3\\xD9\\xD8Nى\\u0006B#\\x9A\\xFA\\a\\u07BCM\\x92s\\t\\u0000\\x9C\\u0011g\\u001A\\xE0\\x88\\xAE\\xA6\\x9FZ\\xF3\\x9Fq\\u001D\\xBB\\rn\\u001F\\u007F\\xF3g\\x9C\\xDBS\\u0016X+\\\\\\xE9\\x8C2J\\xB5\\x84\\x89\\u0006\\u0000\\xC0\\x82\\xA4\\u0001\\u000E\\xA7\\xAC\\xD4\\xF8\\xC9;C\\xFC\\u0002B\\u0006\\xBD\\xF4\\x91e\\xE1\\xCE\\xCD\\xC9\\xD6\\xCA\\u001Fݿ\\xB9\\xD2\\u0019e\\u0014q_\\xFB'F\\xCFظ\\xED\\xAB\\xF7\\xA7\\xBE\\xD0d\\xEA\\xA8&:o\\xBF\\tswZfIP\\xAB\\xB5#'|q\\xEEĞIφ-z\\xB3\\xBF\\xF9ދ\\xFF\\xFEgܧ\\xEF\\r\\u0013B\\x84\\x846~4qҊ\\x85/\\xCF\\u001A\\xDB\\xE6\\x81\\xC7^T\\xF6\\xB9\\xF4\\u0000P\\xFBl\\x9A{b\\xF3\\xAF\\rJJ\\xA5.6\\xBB9\\x8D\\xA7\\xE9\\xB1?_\\xB6w+*!\\xF1<\\xF9}\\xBBV\\xAF\\xFBtRֵ\\v\\x83_\\xF9w|\\xAF\\x97\\x94]oƕ\\xB3K\\xE6\\u000F\\xCE\\xC9ҿ\\xB9\\xE4\\x9CD\\xB1\\u0003?\\xAEM\\x9E;P\\xE7\\u0013\\xE0\\xEBw\\xEB\\u000ED\\x8Dֻ\\xD7\\xC0)\\xE5g\\x94\\u00195i\\xD5\\xE5\\xB4\\xE33^\\xBEw\\xD4\\xE4թ{R\\x8E\\xEC\\xDBd2\\x99*\\xCC(\\xE3\\xB0\\u001C\\xF3\\xA9\\xF2\\u001C\\xD1\\xF6\\xE2\\xB0c\\u0005!a/\\u000E\\e\\u00126\\xDD\\xD3\\xE0\\xA73f\\e4J5\\xC5\\xF5\\xF8\\xE9\\x8C\\xF6nB\\xB5\\xB5{\\xE0\\xA9?u\\xEC\\xFBj\\xE2\\xAD\\xE74\\x9F<\\xB2s\\xE1\\xEC~\\u0013\\xE7\\xEE\\xB4\\xF1\\tE\\xBF\\xEC\\xF8b\\xFD\\xB2\\xD7U\\xAA\\xAAOn\\xB5\\xE9: 9\\xC5T\\xE9G\\x9D\\xBA?{\\xE7Bo\\xEF\\x80\\u0011\\xE3\\x97\\xD9\\xD26\\x98qDۋÎ\\u0015\\x84\\x84\\xBD8lH\\xD8ty\\\",\\xA8H\\xA9v\\xB8$\\xD7\\xE8\\u001FE\\xA6{\\xB8Qd\\xF8\\xF1\\xDB%\\u0013\\xE7\\xFD\\u0010a\\xFDq\\v\\xB0;\\u05C8Xg\\xE4\\xB0=\\xEF\\xB0\\rsy\\u000E\\xDB\\xF36%\\r\\rC\\n\\xB4\\xEA2\\xA5\\x9A\\xE2b\\xB4겨\\xBA\\u0005\\xF6n\\x85\\u0002\\xCC\\xD3=\\xD4\\v\\x8B\\xB1\\xA5\\u0012\\xAD\\x97ϸY[\\xAB\\xFC\\u001D\\u0004\\xEC\\x8B#\\xDA.\\u001Cy\\xAC $\\xEC\\u0091C¦\\xA4A\\xE3Y\\xD6**\\xA7\\xEArn\\xA9UT\\x8E\\u0013\\u001Dl;6~4eD\\xF4\\x98\\x81~\\xF3\\xFF\\u001E\\u007F9\\xED\\xB8e\\xF9\\xEEmK'\\u000F\\x8Bx1A\\xF5\\xC37\\xFF\\u0011Bl\\xDF\\xF0\\xE1\\x8B\\t\\xAA\\u0017\\u0013T\\xBB6/^\\xF7餿=]g\\xF2\\xF0ȯ\\xD7̩\\xB2~\\x95J%\\xE7\\xC2D\\xB5|\\xBDf\\xCE;S\\xBA\\t!>yw\\xE8\\xAA\\xC5c\\x94\\xAD\\xDC=qDۅ#\\x8F\\u0015\\x84\\x84]8rH\\xD8\\xFA\\x9C\\x86\\xF0\\xE0\\xA2\\u0092\\xBCci\\xFE\\x8A\\xB4\\xC6e4\\x8F\\xCC\\v\\u000FvГKwڻs\\xE5\\xCAE\\xAF>9\\xEA_\\u{4FF58}u\\xED\\u009A%\\xB7\\u001E\\xBFإ\\xC7\\xF0\\xB6]\\a\\x8C\\u0019xs\\xFFv\\xEE1\\xACٟ\\xBA'\\xBD\\xD2b\\xD77\\u001Fwzh\\xE8Ĺ\\xBB~ٱ\\xFC\\xCB\\xCF\\xFFѴU\\xB7{\\x9Au\\xAE\\xE5f\\xF7\\u001A8\\xA5\\xD7\\xC0)\\xB5\\xBCR\\x97\\xC7\\u0011]\\xCB\\u001C\\u007F\\xAC $j\\x99\\x83\\x87\\x84\\u0002\\u007F\\xFCń\\xE6\\xB7m\\x9C\\xED\\xB0iQ-Ӫ\\xCB\\xDA6Ύ\\tu\\xA6'\\u0003\\xA6\\xACH\\x8A\\x8Emף\\xCFX\\x8DV\\u0017\\u001A\\u0011\\xF7`\\xAF\\x97\\xAD\\x95\\xD4y\\xFB\\x9B\\x9F=P\\xAFAL\\xF7\\x841\\u0011\\x8DZ\\xF5\\e:[\\xA3\\xD5\\xFD\\x9E\\xBA\\xBD\\u0016ۋ\\x9A\\xC5\\u0011];\\x9Ch\\xAC $j\\x87S\\x84\\x842O\\x84\\f\\u000F.\\xAA\\u0017X|>\\xC3'=[g(R\\xBB\\xE1Ot4\\x9E&_\\x9D1,\\xA8(:\\xA4@\\xE3\\xE9L\\x87\\x96!/\\xEBʥ\\u0013\\u000F%\\x8C\\xB6,\\x89\\x96\\xF1d\\xA4F\\xB17\\xE7p\\xF2\\xF0T\\a\\xD4i\\x90{\\xFDJM\\xB5\\u000F\\xF6\\xC0\\u0011]s\\x9Ct\\xAC $j\\x8Es\\x85\\x84b\\x8F\\x91\\xD6x\\x965\\t\\xCDo\\xE2\\xD8)\\x92\\xFB\\x90\\x9E\\u000F\\xA9\\xFC\\u000F\\u001As\\xB2\\xD3\\xC5\\xEDs2y\\xFB֩\\xB2~o\\xDF[\\xD3=xxz\\x96\\x95\\x95\\xDEM+\\xE1\\xC08\\xA2Q\\u0001!\\u0001\\xC1\\u0013!\\u0011\\u0018\\u0014&n\\x9F\\x93\\xA9\\xD0p\\xDD~\\xCD\\u0001\\u00008.&\\xACrM\\xD2\\u000F\\xFAL\\xD9\\u007F뵯\\u007FphDܙ\\xE3?Y\\x96\\\\8s\\xB0\\xE6\\u001A\\u0006\\u0000p^\\x9Ci\\x80Hx&\\xE9\\xFC\\xA9\\xFD\\xDBS\\u0016\\x94\\u001AK2\\xAE\\x9C\\xDD,\\xE3'\\x94\\u0000\\u00007d\\xD3\\xDC\\u0013pRw\\xCE=\\xB1c\\xD3\\xC2-k\\xE7\\u0019\\xF22\\eD6K|\\xEE\\xEDw_\\xEF\\xEE\\xEB\\u001F\\u001C\\xDB\\\"\\xBEu翔\\x9F\\xEE\\xA1c\\xB7\\xC1+\\u0017\\xBDj~۩\\xFB\\xD0\\xC7\\u0012'ϝ\\xD0);\\xF3\\x92V\\xEB\\xDD0\\xA6\\xCDksvH\\xAC\\xF4\\xD3\\xF7\\x86\\x9D<\\xF2}\\xEE\\xF5\\xAB\\xA5\\xC6⠐H\\xBF\\xC0z\\xFFxw\\xAFDy\\xD7\\xE6\\x98sO\\u0000\\x804\\x92\\u0006w$1a\\u0015j\\aI\\u0003\\u0000g\\xC4\\xE5\\t\\u0000\\u0000 \\vI\\u0003\\u0000\\u0000\\x90\\x85_O@1\\u001F\\xBF\\xF5t\\xA5\\xCBGMZU\\xCB-\\u0001\\u0000\\xD4\\u0004\\x92\\u0006(\\x86\\xE4\\u0000\\u0000\\\\\\e\\x97'\\u0000\\u0000\\x80,$\\r\\u0000\\u0000@\\u0016\\x92\\u0006\\u0000\\u0000 \\vI\\u0003\\u0000\\u0000\\x90\\x85\\xA4\\u0001\\u0000\\u0000\\xC8B\\xD2\\u0000\\u0000\\u0000d!i\\u0000\\u0000\\u0000\\xB2\\x904\\xB8#\\x8D\\xA7\\xC9\\xDEMpk\\xF4?\\u0000'E\\xD2\\xE0\\x8E\\xFCtF{7\\xC1\\xAD\\xD1\\xFF\\u0000\\x9C\\u0014I\\x83;\\n\\v*\\xB2w\\u0013\\xDC\\u001A\\xFD\\u000F\\xC0I\\x914\\xB8\\xA3\\x86!\\u0005Zu\\x99\\xBD[ᦴ겨\\xBA\\u0005\\xF6n\\u0005\\u0000\\xDC\\r\\x92\\u0006w\\xA4\\xF1,k\\u0015\\x95c\\xEFV\\xB8\\xA9VQ9dl\\u0000\\x9C\\u0014I\\x83\\x9B\\n\\u000F.j\\u001E\\x99g\\xEFV\\xB8\\x9D\\xE6\\x91y\\xE1\\xC1\\\\\\x9B\\u0000ଘ\\xE5\\xD2}ń\\xE6{k\\x8C\\x87/\\u0006\\u0016\\e\\xC9\\u001Dk\\x9CV]\\xD6**\\x87\\x8C\\u0001\\x80SS\\xE9\\xF5z{\\xB7\\u0001\\xF6TR\\xEAq>\\xC3'=[g(R\\x97\\x94\\xAA\\xEC\\xDD\\u001CW\\xA3\\xF14\\xF9\\xEA\\x8CaAE\\xD1!\\u0005\\u001AO\\xAEJ\\u0000pn$\\r\\u0000\\u0000@\\u0016\\xCEK\\u0003\\u0000\\u0000YH\\u001A\\u0000\\u0000\\x80,$\\r\\u0000\\u0000@\\u0016\\x92\\u0006\\u0000\\u0000 \\vI\\u0003\\u0000\\u0000\\x90\\x85\\xA4\\u0001\\u0000\\u0000\\xC8B\\xD2\\u0000\\u0000\\u0000d!i\\u0000\\u0000\\u0000\\xB2\\x904\\u0000\\u0000\\u0000YH\\u001A\\u0000\\u0000\\x80,$\\r\\u0000\\u0000@\\u0016\\x92\\u0006\\u0000\\u0000 \\vI\\u0003\\u0000\\u0000\\x90\\x85\\xA4\\u0001\\u0000\\u0000\\xC8B\\xD2\\u0000\\u0000\\u0000d!i\\u0000\\u0000\\u0000\\xB2\\x904\\u0000\\u0000\\u0000YH\\u001A\\u0000\\u0000\\x80,$\\r\\u0000\\u0000@\\u0016\\xB5R\\u0015\\x95\\x94z\\x9C\\xCF\\xF0I\\xCF\\xD6\\u0019\\x8A\\xD4%\\xA5*\\xA5\\xAAu\\u0016\\u001AO\\x93\\xAF\\xCE\\u0018\\u0016T\\u0014\\u001DR\\xA0\\xF1,\\xB3ws\\u0000\\u0000P\\x9EJ\\xAF\\xD7\\xDB^\\x8B>Kw\\xF8b`\\xB1\\x91\\xF3\\u0016B\\xAB.k\\u0015\\x95\\u0013\\u001E\\\\d\\xEF\\x86\\u0000\\u0000\\xA00\\u0005\\xCE4\\x9C\\xBE\\xE2w,\\xCD\\xDF\\xF6z\\\\C\\xB1\\xD1c\\xFF٠\\u0092\\xBC\\x98\\xD0|{\\xB7\\u0005\\u0000\\u0000%\\xD9zn@\\x9F\\xA5#c\\xB8ӱ4\\u007F}\\x96\\xCEޭ\\u0000\\u0000@I6%\\r%\\xA5\\u001E\\x87/\\u0006*\\xD5\\u0014\\u0017\\x93z\\x81\\xEB5\\u0000\\u0000\\x97b\\xD3\\xFFj\\u00172|\\xF8\\u007Fњ\\x92R\\x8F\\x8B\\x99>\\xF6n\\u0005\\u0000\\u0000\\x8A\\xB1\\xE9\\xBF\\xFC\\xF4l\\xCE\\xC0K\\xA1\\u007F\\u0000\\u0000\\xAEĦ\\xA4!\\xBFH\\xB1_l\\xBA$\\xFA\\a\\u0000\\xE0Jl\\xBC\\xA7\\xC1\\xED\\x9E\\xC7P-\\xF4\\u000F\\u0000\\xC0\\x95pG\\u0002\\u0000\\u0000\\x90\\x85\\xA4\\u0001\\u0000\\u0000\\xC8B\\xD2\\u0000\\u0000\\u0000d!i\\u0000\\u0000\\u0000\\xB2\\x904\\u0000\\u0000\\u0000YH\\u001A\\u0000\\u0000\\x80,$\\r\\u0000\\u0000@\\u0016\\x92\\u0006\\u0000\\u0000 \\vI\\u0003\\u0000\\u0000\\x90\\x85\\xA4A\\u0001\\u0019\\x97Ϥ\\xACH\\xCA˹j\\xEF\\x86\\u0000\\u0000P\\x83H\\u001A\\u0014p\\xED\\xF2\\x99\\r+\\xFF\\x99w\\x9D\\xA4\\u0001\\u0000\\xE0\\xCAH\\u001A\\u0000\\u0000\\x80,\\xCE4\\r\\xE3\\xB5\\xF4\\xD3k\\x96\\x8Cϼz^\\xA5Ri\\xBD|\\xDA\\xDE\\xFFd\\x8F>c\\xB7o\\xF8pU\\xF2h!Đ\\xBF&g^;\\xBFk\\xF3\\xE2\\xFC܌v\\u000F<5j\\xD2*!\\xC4\\xD1\\u0003[RV\\xCC\\xC8\\xCF\\xCD\\xD0h\\xBD\\u0003\\xEA\\x84v|hH\\x97\\u001Eí\\xD5o)\\\\j,\\x89m\\u0019\\x9F8\\xFC\\xAD\\xC0\\xE00!Dʊ\\xA4\\u001D\\e?\\xCA\\xCF͘\\xF1\\xE1\\xE1\\xF0\\xE8\\x96G\\xF6m\\xFA|\\xC1\\xF39Y\\xE9#\\xC6/\\xEB\\xF8А\\xAF\\xD7\\xCC\\xD9\\xFA\\xE5\\xBBB\\x88\\xF7\\xA6\\xF6\\xF4\\xF0T\\a\\x87DM\\x9E\\xFFS\\xEDt\\b\\u0000\\u0000\\xB5ə\\xCE4,\\x9A\\x93\\u0018\\xD1\\xE8\\xBEi\\u001F\\xFC:\\xF5\\xFD\\x83=\\xFB\\x8D_\\xBFl\\xAA\\u0010\\xA2s\\x8FaI\\v\\x8F\\n!vnN\\xD6j\\xBD_{s{\\xB7ޯ\\x98˧\\xEEݰ \\xA9w\\xF7\\x841\\xB3\\u0016\\x9F\\x9A\\xBE \\xB5q\\\\\\x87U\\x8B^\\xB5V\\xB9\\xB9p\\x8F>cg->53\\xF9D\\xA1!g\\xFE\\xDF\\xE3\\x8B\\n\\xF3\\x84\\u0010\\t\\xCF$=?q\\xA5\\xA5d\\xCBv\\xBD\\xA7/H\\xB5\\xBC\\xED5p\\x8A\\xF9\\xD3q\\xB3\\xB6\\xCE[\\x9AF\\xC6\\u0000\\u0000pUN\\x934\\x94\\u0014\\u0017\\xA5\\x9D=\\u0014\\u0012\\xDA\\xD8\\xFC\\xB6M\\x97\\xC4G\\xFAO\\u0010B\\xE8\\xBC\\xFD\\x83\\xEB5\\u0014B\\u0004\\x85D\\xF5~jjxt\\xCB\\xC7\\aM\\xEF\\xFA\\xF0\\b!\\xC4\\xDA%\\u0013\\u001Aŵ\\xEF\\xF0\\xE03B\\b\\x95J\\xF5\\xF8\\xD3Ӽ}\\u0002\\xADտvɄ\\xC6q\\u001D\\xDA\\xC7\\u000F\\u0012B\\xA85^\\u0003F̿\\x9A~\\xEA\\xFB\\x8D\\vka\\xD3\\u0000\\u0000p\\nN\\x934h\\xB4\\xBAF\\xB1\\xEDW%\\x8F^\\xFBɄ\\x8Bg\\u000E\\n!\\x9E\\u00184\\xA3|\\x81&ͻ\\x9A_\\u0004\\xD4\\tm\\xDE\\xFA\\x91쌴+\\x97~o\\u0014۾\\\\\\r\\xDE\\xF3>\\xBBTi\\xE5\\xE6\\xC2\\xD1q\\xB7\\n\\x87F\\xC4y\\xFB\\u0006\\xFEvh\\xAB\\xF2[\\u0002\\u0000\\x80sr\\xA6{\\u001A\\xC6\\xCE\\xFCf\\xCB\\xDAy\\xBB\\xB7-\\xFD\\xF6\\u007F\\xEF\\x84F4\\xED\\xF7\\xEC\\xEC6]\\u0012-\\x9F\\xFA\\xF8\\u0005\\x95/\\x9C\\x9F\\x9B!\\x84\\xF0\\xF5\\v\\x96S\\xF3\\xCD¾\\xB7\\xD5\\xE0\\xEB\\u0017l^n\\x8B\\xF0\\xF0p\\x89O\\xF5z\\xBD\\x8D\\xF5\\u0003\\u0000Pk\\x9C\\xE6L\\x83\\u0010\\xC2Ƿ\\xCE_\\x86͙\\xB74m\\xF4\\x8C\\x8D^:\\xDF\\xC5s\\x9Fԟ?b\\xAD\\xB0_@\\x88\\u0010\\xC2`ȖS\\xF3\\xCD\\xC2\\xF9Y\\xE5\\u0017\\u001A\\xF2\\xB3\\xCC˅\\u0010\\u001E\\u001E\\x9EB\\b\\x93\\xC9d~{\\xA3(\\xFF\\xAE\\xB6\\u0000\\u0000\\u0000'\\xE64IC\\x81\\xE1\\xFA\\u007F?\\xFE\\x9B\\u0010\\xC2\\xC3óe\\xBB\\xDE\\xCFO\\\\i2\\x95\\xE9/\\u001C\\xB5V>($24\\xA2\\xE9\\xF9\\x93\\xFB,K\\x8A\\n\\xF3\\xE6N\\xE8d\\xC8˲V\\xF8\\xDCɽ\\x96%W\\xF5'\\v\\r9\\xF7\\xFE\\xA9\\xA7\\xF9\\xAD\\u007F\\x9D\\xFA\\xE2\\x8F\\u0013\\u0012B\\x88\\xF4\\v\\xC7\\xCA\\u007F\\xDDS\\xAD\\u0011\\u007F\\xA4\\u0014\\xA7\\x8E\\xFD\\x90\\x97s\\xCD\\xF2\\x91^R\\xB5{\\u0001\\u0000\\u0000\\xFBq\\x9A\\xA4\\xC1X\\\\\\xB4c\\xD3\\xC2ӿ\\xFDh~{\\xF2\\xE8N\\xAD\\x97O㦝$\\xBE2`\\xE4\\xFCs'\\xF6\\xEC۵Z\\bQVV\\xBA~\\xD9Ժ\\xF5\\xA2}\\xFD+\\xBF`1`\\xE4\\xFCs'\\xF6\\xEE\\xF9~\\x85\\u0010\\xC2h,^\\xFB\\xC9\\xC4\\xFAaM\\u001E\\xEC\\xFD\\xB2\\xF9\\xD3\\xFA\\xE1\\xB1\\u0001A\\r~\\u07BE\\xCCd2\\u0015\\u001Arvo[Z\\xFE\\xBB\\xE6;1\\xB33ӌ%7\\u0016\\xBDٿ \\xBF\\x92\\xBC\\u0004\\u0000\\u0000g\\xA7\\xB2\\xE5\\xEFݔ\\xFDa\\n6E\\x9A\\xB1\\xE4\\xC6\\xE6\\xB5s\\u007F\\xFDy\\xBD\\u0010\\xA6\\xB2\\xB2R\\u001F\\xBF\\xA0>\\x83߈k\\xF9`ꞔ\\x95\\x8B^ͺv\\xC1\\u05FF\\xAE\\xCE\\xDBo\\xFA\\x82T\\x9DO\\x80\\xE5[G\\xF7o\\xFEj\\xC5\\fC^\\xA6\\xD6\\xCB'\\xB6E|\\xFF\\xE1\\xF3\\xBCt\\xBE\\xD6Va)l,)\\x8Ek\\u0019\\x9F\\xF8\\xDC\\xDB\\xE6\\xE74\\x98\\u001DO\\xFDnu\\xF2\\x98\\xFC܌\\xF0\\x86-\\xFA>;{ބ\\xCE~\\u0001!-\\xDB\\xF5~n\\xDCgB\\x88\\xFF[:y߮\\xD5Z/\\xDF\\xD6]\\xFA\\xF7\\u001D2\\xD3\\u{AD136}\\xE95\\xD3\\u001F\\u0000\\u0000\\xD46\\xA7I\\u001A\\x9C\\u0014I\\u0003\\u0000\\xC0e8\\xCD\\xE5\\t\\u0000\\u0000`_$\\r\\u0000\\u0000@\\u0016\\x92\\u0006\\u0000\\u0000 \\vI\\u0003\\u0000\\u0000\\x90\\x85\\xA4\\u0001\\u0000\\u0000\\xC8B\\xD2\\u0000\\u0000\\u0000d!i\\u0000\\u0000\\u0000\\xB2\\x904\\u0000\\u0000\\u0000YH\\u001A\\u0000\\u0000\\x80,$\\r\\u0000\\u0000@\\u0016\\x92\\u0006\\u0000\\u0000 \\x8BMI\\x83\\xC6ӤT;\\\\\\u0012\\xFD\\u0003\\u0000p%6%\\r~:\\xA3R\\xEDpI\\xF4\\u000F\\u0000\\xC0\\x95ؔ4\\x84\\u0005\\u0015)\\xD5\\u000E\\x97D\\xFF\\u0000\\u0000\\\\\\x89MICÐ\\u0002\\xAD\\xBAL\\xA9\\xA6\\xB8\\u0018\\xAD\\xBA,\\xAAn\\x81\\xBD[\\u0001\\u0000\\x80bl\\xBC\\xA7\\xA1\\xACUT\\x8ERMq1\\xAD\\xA2rȨ\\u0000\\u0000\\xAE\\xC4\\xD6_O\\x84\\a\\u00175\\x8F\\xCCS\\xA4)\\xAE\\xA4yd^x0\\xD7&\\u0000\\u0000.Em{\\u00151\\xA1\\xF9\\xDE\\u001A\\xE3\\u12C1\\xC5F~\\xC0)\\xB4\\xEA\\xB2VQ9d\\f\\u0000\\u0000ף\\xD2\\xEB\\xF5\\x8ATTR\\xEAq>\\xC3'=[g(R\\x97\\x94\\xAA\\u0014\\xA9Ӊh<M\\xBE:cXPQtH\\x81Ɠ\\xAB\\u0012\\u0000\\u0000\\u0017\\xA4X\\xD2\\u0000\\u0000\\u0000\\\\\\e\\u0017\\u0014\\u0000\\u0000\\x80,$\\r\\u0000\\u0000@\\u0016\\x92\\u0006\\u0000\\u0000 \\vI\\u0003\\u0000\\u0000\\x90\\x85\\xA4\\u0001\\u0000\\u0000\\xC8B\\xD2\\u0000\\u0000\\u0000d!i\\u0000\\u0000\\u0000\\xB2\\x904\\u0000\\u0000\\u0000YH\\u001A\\u0000\\u0000\\x80,$\\r\\u0000\\u0000@\\u0016\\x92\\u0006\\u0000\\u0000 \\vI\\u0003\\u0000\\u0000\\x90\\x85\\xA4\\u0001\\u0000\\u0000\\xC8B\\xD2\\u0000\\u0000\\u0000d!i\\u0000\\u0000\\u0000\\xB2\\x904\\u0000\\u0000\\u0000YH\\u001A\\u0000\\u0000\\x80,$\\r\\u0000\\u0000@\\u0016\\x92\\u0006\\u0000\\u0000 \\vI\\u0003\\u0000\\u0000\\x90\\x85\\xA4\\u0001\\u0000\\u0000\\xC8B\\xD2\\u0000\\u0000\\u0000d!i\\u0000\\u0000\\u0000\\xB2\\x904\\u0000\\u0000\\u0000YH\\u001A\\u0000\\u0000\\x80,$\\r\\u0000\\u0000@\\u0016\\x92\\u0006\\u0000\\u0000 \\vI\\u0003\\u0000\\u0000\\x90\\x85\\xA4\\u0001\\u0000\\u0000\\xC8\\xF2\\xFFOc!b\\xB2@\\xF1R\\u0000\\u0000\\u0000\\u0000IEND\\xAEB`\\x82\""
      ]
     },
     "metadata": {},
     "output_type": "display_data"
    },
    {
     "data": {
      "text/plain": [
       "#<CZTop::Socket::PUB:0x5613f876ec80 last_endpoint=\"tcp://127.0.0.1:35733\">"
      ]
     },
     "execution_count": 6,
     "metadata": {},
     "output_type": "execute_result"
    }
   ],
   "source": [
    "bd = IMulvery::BlockDiagram.from_observable(result)\n",
    "IRuby.display(bd.build_map, mime: \"image/png\")"
   ]
  },
  {
   "cell_type": "markdown",
   "metadata": {},
   "source": [
    "## optimizerを用いたチューニング\n",
    "\n",
    "Mulveryの新機能である `optimizer` を用いてハードウェアのチューニングを行います．  \n",
    "といってもこのサンプルは既に十分に最適化されているので，できることはありません．"
   ]
  },
  {
   "cell_type": "code",
   "execution_count": 7,
   "metadata": {},
   "outputs": [],
   "source": [
    "# result.optimize(Mulvery::Optimizers::pipeline)"
   ]
  }
 ],
 "metadata": {
  "kernelspec": {
   "display_name": "Ruby 2.5.1",
   "language": "ruby",
   "name": "ruby"
  },
  "language_info": {
   "file_extension": ".rb",
   "mimetype": "application/x-ruby",
   "name": "ruby",
   "version": "2.5.1"
  }
 },
 "nbformat": 4,
 "nbformat_minor": 2
}
